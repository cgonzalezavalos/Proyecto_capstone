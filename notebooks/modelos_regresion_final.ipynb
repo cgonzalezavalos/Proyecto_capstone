{
  "cells": [
    {
      "cell_type": "markdown",
      "metadata": {
        "id": "JCvj79Iixoh_"
      },
      "source": [
        "# Modelos de Predicción"
      ]
    },
    {
      "cell_type": "markdown",
      "metadata": {
        "id": "6ADeo5yaxuRv"
      },
      "source": [
        "# Librerias"
      ]
    },
    {
      "cell_type": "code",
      "execution_count": 1,
      "metadata": {
        "id": "AJMGQn5oxnPV"
      },
      "outputs": [
        {
          "ename": "ModuleNotFoundError",
          "evalue": "No module named 'numpy'",
          "output_type": "error",
          "traceback": [
            "\u001b[0;31m---------------------------------------------------------------------------\u001b[0m",
            "\u001b[0;31mModuleNotFoundError\u001b[0m                       Traceback (most recent call last)",
            "Cell \u001b[0;32mIn[1], line 2\u001b[0m\n\u001b[1;32m      1\u001b[0m \u001b[38;5;66;03m# operaciones datos y numéricas\u001b[39;00m\n\u001b[0;32m----> 2\u001b[0m \u001b[38;5;28;01mimport\u001b[39;00m\u001b[38;5;250m \u001b[39m\u001b[38;5;21;01mnumpy\u001b[39;00m\u001b[38;5;250m \u001b[39m\u001b[38;5;28;01mas\u001b[39;00m\u001b[38;5;250m \u001b[39m\u001b[38;5;21;01mnp\u001b[39;00m\n\u001b[1;32m      3\u001b[0m \u001b[38;5;28;01mimport\u001b[39;00m\u001b[38;5;250m \u001b[39m\u001b[38;5;21;01mpandas\u001b[39;00m\u001b[38;5;250m \u001b[39m\u001b[38;5;28;01mas\u001b[39;00m\u001b[38;5;250m \u001b[39m\u001b[38;5;21;01mpd\u001b[39;00m\n\u001b[1;32m      4\u001b[0m \u001b[38;5;28;01mimport\u001b[39;00m\u001b[38;5;250m \u001b[39m\u001b[38;5;21;01mmath\u001b[39;00m\n",
            "\u001b[0;31mModuleNotFoundError\u001b[0m: No module named 'numpy'"
          ]
        }
      ],
      "source": [
        "# operaciones datos y numéricas\n",
        "import numpy as np\n",
        "import pandas as pd\n",
        "import math\n",
        "\n",
        "# sklearn\n",
        "from sklearn.experimental import enable_iterative_imputer\n",
        "from sklearn.impute import IterativeImputer\n",
        "## regresiones y clasificaciones\n",
        "from sklearn.ensemble import RandomForestRegressor,ExtraTreesRegressor,IsolationForest,GradientBoostingRegressor, AdaBoostRegressor\n",
        "from sklearn.linear_model import LinearRegression, Ridge, Lasso,LogisticRegression\n",
        "from sklearn.tree import DecisionTreeRegressor\n",
        "from sklearn.svm import SVR,SVC\n",
        "from sklearn.neighbors import KNeighborsRegressor\n",
        "## herramientas sklearn\n",
        "from sklearn.model_selection import GridSearchCV,RandomizedSearchCV\n",
        "from sklearn.preprocessing import StandardScaler\n",
        "from sklearn.metrics import make_scorer, mean_absolute_error, mean_squared_error, r2_score,accuracy_score, f1_score, roc_auc_score,classification_report, confusion_matrix\n",
        "from sklearn.model_selection import train_test_split, cross_val_score,RandomizedSearchCV,cross_val_predict\n",
        "\n",
        "# graficos\n",
        "import matplotlib.pyplot as plt\n",
        "import plotly.graph_objects as go\n",
        "from plotly.subplots import make_subplots\n",
        "import seaborn as sns\n",
        "\n",
        "# estadisticas\n",
        "from scipy.stats import shapiro\n",
        "import statsmodels.api as sm\n",
        "from scipy.stats import ks_2samp\n",
        "from scipy.stats import uniform as sp_randFloat\n",
        "from scipy.stats import randint as sp_randInt\n",
        "\n",
        "# Para guardar modelos\n",
        "import joblib\n",
        "\n",
        "import warnings\n",
        "warnings.simplefilter(action=\"ignore\", category=FutureWarning)\n",
        "warnings.simplefilter(action=\"ignore\", category=UserWarning)\n",
        "warnings.simplefilter(action=\"ignore\", category=RuntimeWarning)\n",
        "warnings.simplefilter(action=\"ignore\", category=DeprecationWarning)"
      ]
    },
    {
      "cell_type": "markdown",
      "metadata": {
        "id": "1_HI_is0xmJG"
      },
      "source": [
        "# Carga de Datos"
      ]
    },
    {
      "cell_type": "code",
      "execution_count": 2,
      "metadata": {
        "colab": {
          "base_uri": "https://localhost:8080/"
        },
        "id": "2cWNKDH1xlKQ",
        "outputId": "71e0b1e0-452b-42c3-9273-143b8c4db8e6"
      },
      "outputs": [
        {
          "ename": "FileNotFoundError",
          "evalue": "[Errno 2] No such file or directory: 'datos/df_capstone.xlsx'",
          "output_type": "error",
          "traceback": [
            "\u001b[0;31m---------------------------------------------------------------------------\u001b[0m",
            "\u001b[0;31mFileNotFoundError\u001b[0m                         Traceback (most recent call last)",
            "Cell \u001b[0;32mIn[2], line 2\u001b[0m\n\u001b[1;32m      1\u001b[0m \u001b[38;5;66;03m#df_capstone=pd.read_excel('ArchivosExcel/dataset_regresion.xlsx')\u001b[39;00m\n\u001b[0;32m----> 2\u001b[0m df_capstone\u001b[38;5;241m=\u001b[39m\u001b[43mpd\u001b[49m\u001b[38;5;241;43m.\u001b[39;49m\u001b[43mread_excel\u001b[49m\u001b[43m(\u001b[49m\u001b[38;5;124;43m'\u001b[39;49m\u001b[38;5;124;43mdatos/df_capstone.xlsx\u001b[39;49m\u001b[38;5;124;43m'\u001b[39;49m\u001b[43m)\u001b[49m\n\u001b[1;32m      3\u001b[0m \u001b[38;5;66;03m#df_capstone_sfs=pd.read_excel('/content/drive/MyDrive/Magister/capstone/datos/df_capstone_sfs.xlsx')\u001b[39;00m\n\u001b[1;32m      4\u001b[0m \u001b[38;5;66;03m#df_capstone=df_capstone.drop(columns=['Recuperacion_Turno','Fecha','Turno'])#,'Alim CuI'])\u001b[39;00m\n\u001b[1;32m      5\u001b[0m df_capstone\u001b[38;5;241m=\u001b[39mdf_capstone\u001b[38;5;241m.\u001b[39mdrop(columns\u001b[38;5;241m=\u001b[39m[\u001b[38;5;124m'\u001b[39m\u001b[38;5;124mFecha\u001b[39m\u001b[38;5;124m'\u001b[39m,\u001b[38;5;124m'\u001b[39m\u001b[38;5;124mTurno\u001b[39m\u001b[38;5;124m'\u001b[39m])\u001b[38;5;66;03m#,'Alim CuI','Recuperacion_Turno',])\u001b[39;00m\n",
            "File \u001b[0;32m/Library/Frameworks/Python.framework/Versions/3.12/lib/python3.12/site-packages/pandas/io/excel/_base.py:495\u001b[0m, in \u001b[0;36mread_excel\u001b[0;34m(io, sheet_name, header, names, index_col, usecols, dtype, engine, converters, true_values, false_values, skiprows, nrows, na_values, keep_default_na, na_filter, verbose, parse_dates, date_parser, date_format, thousands, decimal, comment, skipfooter, storage_options, dtype_backend, engine_kwargs)\u001b[0m\n\u001b[1;32m    493\u001b[0m \u001b[38;5;28;01mif\u001b[39;00m \u001b[38;5;129;01mnot\u001b[39;00m \u001b[38;5;28misinstance\u001b[39m(io, ExcelFile):\n\u001b[1;32m    494\u001b[0m     should_close \u001b[38;5;241m=\u001b[39m \u001b[38;5;28;01mTrue\u001b[39;00m\n\u001b[0;32m--> 495\u001b[0m     io \u001b[38;5;241m=\u001b[39m \u001b[43mExcelFile\u001b[49m\u001b[43m(\u001b[49m\n\u001b[1;32m    496\u001b[0m \u001b[43m        \u001b[49m\u001b[43mio\u001b[49m\u001b[43m,\u001b[49m\n\u001b[1;32m    497\u001b[0m \u001b[43m        \u001b[49m\u001b[43mstorage_options\u001b[49m\u001b[38;5;241;43m=\u001b[39;49m\u001b[43mstorage_options\u001b[49m\u001b[43m,\u001b[49m\n\u001b[1;32m    498\u001b[0m \u001b[43m        \u001b[49m\u001b[43mengine\u001b[49m\u001b[38;5;241;43m=\u001b[39;49m\u001b[43mengine\u001b[49m\u001b[43m,\u001b[49m\n\u001b[1;32m    499\u001b[0m \u001b[43m        \u001b[49m\u001b[43mengine_kwargs\u001b[49m\u001b[38;5;241;43m=\u001b[39;49m\u001b[43mengine_kwargs\u001b[49m\u001b[43m,\u001b[49m\n\u001b[1;32m    500\u001b[0m \u001b[43m    \u001b[49m\u001b[43m)\u001b[49m\n\u001b[1;32m    501\u001b[0m \u001b[38;5;28;01melif\u001b[39;00m engine \u001b[38;5;129;01mand\u001b[39;00m engine \u001b[38;5;241m!=\u001b[39m io\u001b[38;5;241m.\u001b[39mengine:\n\u001b[1;32m    502\u001b[0m     \u001b[38;5;28;01mraise\u001b[39;00m \u001b[38;5;167;01mValueError\u001b[39;00m(\n\u001b[1;32m    503\u001b[0m         \u001b[38;5;124m\"\u001b[39m\u001b[38;5;124mEngine should not be specified when passing \u001b[39m\u001b[38;5;124m\"\u001b[39m\n\u001b[1;32m    504\u001b[0m         \u001b[38;5;124m\"\u001b[39m\u001b[38;5;124man ExcelFile - ExcelFile already has the engine set\u001b[39m\u001b[38;5;124m\"\u001b[39m\n\u001b[1;32m    505\u001b[0m     )\n",
            "File \u001b[0;32m/Library/Frameworks/Python.framework/Versions/3.12/lib/python3.12/site-packages/pandas/io/excel/_base.py:1550\u001b[0m, in \u001b[0;36mExcelFile.__init__\u001b[0;34m(self, path_or_buffer, engine, storage_options, engine_kwargs)\u001b[0m\n\u001b[1;32m   1548\u001b[0m     ext \u001b[38;5;241m=\u001b[39m \u001b[38;5;124m\"\u001b[39m\u001b[38;5;124mxls\u001b[39m\u001b[38;5;124m\"\u001b[39m\n\u001b[1;32m   1549\u001b[0m \u001b[38;5;28;01melse\u001b[39;00m:\n\u001b[0;32m-> 1550\u001b[0m     ext \u001b[38;5;241m=\u001b[39m \u001b[43minspect_excel_format\u001b[49m\u001b[43m(\u001b[49m\n\u001b[1;32m   1551\u001b[0m \u001b[43m        \u001b[49m\u001b[43mcontent_or_path\u001b[49m\u001b[38;5;241;43m=\u001b[39;49m\u001b[43mpath_or_buffer\u001b[49m\u001b[43m,\u001b[49m\u001b[43m \u001b[49m\u001b[43mstorage_options\u001b[49m\u001b[38;5;241;43m=\u001b[39;49m\u001b[43mstorage_options\u001b[49m\n\u001b[1;32m   1552\u001b[0m \u001b[43m    \u001b[49m\u001b[43m)\u001b[49m\n\u001b[1;32m   1553\u001b[0m     \u001b[38;5;28;01mif\u001b[39;00m ext \u001b[38;5;129;01mis\u001b[39;00m \u001b[38;5;28;01mNone\u001b[39;00m:\n\u001b[1;32m   1554\u001b[0m         \u001b[38;5;28;01mraise\u001b[39;00m \u001b[38;5;167;01mValueError\u001b[39;00m(\n\u001b[1;32m   1555\u001b[0m             \u001b[38;5;124m\"\u001b[39m\u001b[38;5;124mExcel file format cannot be determined, you must specify \u001b[39m\u001b[38;5;124m\"\u001b[39m\n\u001b[1;32m   1556\u001b[0m             \u001b[38;5;124m\"\u001b[39m\u001b[38;5;124man engine manually.\u001b[39m\u001b[38;5;124m\"\u001b[39m\n\u001b[1;32m   1557\u001b[0m         )\n",
            "File \u001b[0;32m/Library/Frameworks/Python.framework/Versions/3.12/lib/python3.12/site-packages/pandas/io/excel/_base.py:1402\u001b[0m, in \u001b[0;36minspect_excel_format\u001b[0;34m(content_or_path, storage_options)\u001b[0m\n\u001b[1;32m   1399\u001b[0m \u001b[38;5;28;01mif\u001b[39;00m \u001b[38;5;28misinstance\u001b[39m(content_or_path, \u001b[38;5;28mbytes\u001b[39m):\n\u001b[1;32m   1400\u001b[0m     content_or_path \u001b[38;5;241m=\u001b[39m BytesIO(content_or_path)\n\u001b[0;32m-> 1402\u001b[0m \u001b[38;5;28;01mwith\u001b[39;00m \u001b[43mget_handle\u001b[49m\u001b[43m(\u001b[49m\n\u001b[1;32m   1403\u001b[0m \u001b[43m    \u001b[49m\u001b[43mcontent_or_path\u001b[49m\u001b[43m,\u001b[49m\u001b[43m \u001b[49m\u001b[38;5;124;43m\"\u001b[39;49m\u001b[38;5;124;43mrb\u001b[39;49m\u001b[38;5;124;43m\"\u001b[39;49m\u001b[43m,\u001b[49m\u001b[43m \u001b[49m\u001b[43mstorage_options\u001b[49m\u001b[38;5;241;43m=\u001b[39;49m\u001b[43mstorage_options\u001b[49m\u001b[43m,\u001b[49m\u001b[43m \u001b[49m\u001b[43mis_text\u001b[49m\u001b[38;5;241;43m=\u001b[39;49m\u001b[38;5;28;43;01mFalse\u001b[39;49;00m\n\u001b[1;32m   1404\u001b[0m \u001b[43m\u001b[49m\u001b[43m)\u001b[49m \u001b[38;5;28;01mas\u001b[39;00m handle:\n\u001b[1;32m   1405\u001b[0m     stream \u001b[38;5;241m=\u001b[39m handle\u001b[38;5;241m.\u001b[39mhandle\n\u001b[1;32m   1406\u001b[0m     stream\u001b[38;5;241m.\u001b[39mseek(\u001b[38;5;241m0\u001b[39m)\n",
            "File \u001b[0;32m/Library/Frameworks/Python.framework/Versions/3.12/lib/python3.12/site-packages/pandas/io/common.py:882\u001b[0m, in \u001b[0;36mget_handle\u001b[0;34m(path_or_buf, mode, encoding, compression, memory_map, is_text, errors, storage_options)\u001b[0m\n\u001b[1;32m    873\u001b[0m         handle \u001b[38;5;241m=\u001b[39m \u001b[38;5;28mopen\u001b[39m(\n\u001b[1;32m    874\u001b[0m             handle,\n\u001b[1;32m    875\u001b[0m             ioargs\u001b[38;5;241m.\u001b[39mmode,\n\u001b[0;32m   (...)\u001b[0m\n\u001b[1;32m    878\u001b[0m             newline\u001b[38;5;241m=\u001b[39m\u001b[38;5;124m\"\u001b[39m\u001b[38;5;124m\"\u001b[39m,\n\u001b[1;32m    879\u001b[0m         )\n\u001b[1;32m    880\u001b[0m     \u001b[38;5;28;01melse\u001b[39;00m:\n\u001b[1;32m    881\u001b[0m         \u001b[38;5;66;03m# Binary mode\u001b[39;00m\n\u001b[0;32m--> 882\u001b[0m         handle \u001b[38;5;241m=\u001b[39m \u001b[38;5;28;43mopen\u001b[39;49m\u001b[43m(\u001b[49m\u001b[43mhandle\u001b[49m\u001b[43m,\u001b[49m\u001b[43m \u001b[49m\u001b[43mioargs\u001b[49m\u001b[38;5;241;43m.\u001b[39;49m\u001b[43mmode\u001b[49m\u001b[43m)\u001b[49m\n\u001b[1;32m    883\u001b[0m     handles\u001b[38;5;241m.\u001b[39mappend(handle)\n\u001b[1;32m    885\u001b[0m \u001b[38;5;66;03m# Convert BytesIO or file objects passed with an encoding\u001b[39;00m\n",
            "\u001b[0;31mFileNotFoundError\u001b[0m: [Errno 2] No such file or directory: 'datos/df_capstone.xlsx'"
          ]
        }
      ],
      "source": [
        "#df_capstone=pd.read_excel('ArchivosExcel/dataset_regresion.xlsx')\n",
        "df_capstone=pd.read_excel('datos/df_capstone.xlsx')\n",
        "#df_capstone_sfs=pd.read_excel('/content/drive/MyDrive/Magister/capstone/datos/df_capstone_sfs.xlsx')\n",
        "#df_capstone=df_capstone.drop(columns=['Recuperacion_Turno','Fecha','Turno'])#,'Alim CuI'])\n",
        "df_capstone=df_capstone.drop(columns=['Fecha','Turno'])#,'Alim CuI','Recuperacion_Turno',])\n",
        "df_regresion = df_capstone.copy()\n",
        "df_regresion.info()"
      ]
    },
    {
      "cell_type": "code",
      "execution_count": 8,
      "metadata": {},
      "outputs": [
        {
          "data": {
            "text/plain": [
              "count    600.000000\n",
              "mean      80.652378\n",
              "std        7.002197\n",
              "min       39.773557\n",
              "25%       76.231576\n",
              "50%       82.050545\n",
              "75%       85.739651\n",
              "max       93.713346\n",
              "Name: Recuperacion_Turno, dtype: float64"
            ]
          },
          "execution_count": 8,
          "metadata": {},
          "output_type": "execute_result"
        }
      ],
      "source": [
        "df_regresion.Recuperacion_Turno.describe()"
      ]
    },
    {
      "cell_type": "markdown",
      "metadata": {
        "id": "pf7Y4u1c2Bgu"
      },
      "source": [
        "# Modelos de Predicción"
      ]
    },
    {
      "cell_type": "markdown",
      "metadata": {
        "id": "XXyn-AgW2UJU"
      },
      "source": [
        "## preparación de los datos"
      ]
    },
    {
      "cell_type": "markdown",
      "metadata": {
        "id": "zwrwvHaC3NIU"
      },
      "source": [
        "### datos para regresiones"
      ]
    },
    {
      "cell_type": "code",
      "execution_count": 9,
      "metadata": {
        "id": "v9BGM5mB3BLd"
      },
      "outputs": [],
      "source": [
        "X_reg = df_regresion.drop('Recuperacion_Turno', axis=1)\n",
        "X_reg['cumple']=np.where(df_regresion['Recuperacion_Turno']>=86,1,0)\n",
        "## Etiquetas / clases\n",
        "y_reg = df_regresion['Recuperacion_Turno']\n",
        "train_dataset_reg, test_dataset_reg, y_train_reg, y_test_reg = train_test_split(X_reg, y_reg, test_size=0.2, random_state=42,stratify=X_reg['cumple'])\n",
        "## train test split\n",
        "X_train_reg = train_dataset_reg.drop(columns=['cumple'], axis=1)\n",
        "X_test_reg = test_dataset_reg.drop(columns=['cumple'], axis=1)"
      ]
    },
    {
      "cell_type": "markdown",
      "metadata": {},
      "source": [
        "### comparar distribución de recuperacion entre train y test"
      ]
    },
    {
      "cell_type": "code",
      "execution_count": 10,
      "metadata": {},
      "outputs": [
        {
          "data": {
            "image/png": "[encoded data removed]",
            "text/plain": [
              "<Figure size 640x480 with 1 Axes>"
            ]
          },
          "metadata": {},
          "output_type": "display_data"
        }
      ],
      "source": [
        "# comparar distribucion de recuperacion entre train y test\n",
        "sns.kdeplot(y_reg)\n",
        "sns.kdeplot(y_train_reg)\n",
        "sns.kdeplot(y_test_reg)\n",
        "plt.legend(['Recuperacion_Turno', 'Recuperacion_Turno_train', 'Recuperacion_Turno_test'])\n",
        "plt.show()"
      ]
    },
    {
      "cell_type": "markdown",
      "metadata": {
        "id": "89pDsLY24od3"
      },
      "source": [
        "## Experimento con distintos modelos supervisados de predicción"
      ]
    },
    {
      "cell_type": "markdown",
      "metadata": {},
      "source": [
        "### Experimento inicial sin Gridsearch"
      ]
    },
    {
      "cell_type": "code",
      "execution_count": null,
      "metadata": {},
      "outputs": [],
      "source": [
        "# Lista de modelos a evaluar\n",
        "models = {\n",
        "    'Linear Regression': LinearRegression(),\n",
        "    'Ridge Regression': Ridge(),\n",
        "    'Lasso Regression': Lasso(),\n",
        "    'Random Forest': RandomForestRegressor(),\n",
        "    'Gradient Boosting': GradientBoostingRegressor(),\n",
        "    'AdaBoost': AdaBoostRegressor(),\n",
        "    'Support Vector Regression': SVR(),\n",
        "    'Extra Trees': ExtraTreesRegressor(),\n",
        "}\n",
        "\n",
        "# Diccionario para guardar los resultados\n",
        "results = []\n",
        "\n",
        "# Evaluación de cada modelo\n",
        "for name, model in models.items():\n",
        "    # Predicción cruzada para obtener predicciones y calcular métricas\n",
        "    y_pred = cross_val_predict(model, X_train_reg, y_train_reg, cv=5)\n",
        "\n",
        "    # Calcular métricas\n",
        "    r2 = r2_score(y_train_reg, y_pred)\n",
        "    mse = mean_squared_error(y_train_reg, y_pred)\n",
        "    mae = mean_absolute_error(y_train_reg, y_pred)\n",
        "    rmse = np.sqrt(mse)\n",
        "\n",
        "    # Calcular el R^2 ajustado en el conjunto de entrenamiento\n",
        "    n = X_train_reg.shape[0]  # Número de muestras\n",
        "    p = X_train_reg.shape[1]  # Número de predictores\n",
        "    r2_adjusted = 1 - (1 - r2) * (n - 1) / (n - p - 1)\n",
        "\n",
        "\n",
        "    # Guardar resultados en una lista de diccionarios\n",
        "    results.append({\n",
        "        'Model': name,\n",
        "        'R2': r2,\n",
        "        'R2_Adj': r2_adjusted,\n",
        "        'MSE': mse,\n",
        "        'MAE': mae,\n",
        "        'RMSE': rmse\n",
        "    })\n",
        "\n",
        "# Convertir los resultados en DataFrame para mejor visualización\n",
        "results_exp = pd.DataFrame(results)\n",
        "\n",
        "\n",
        "# Mostrar los resultados ordenados por R2\n",
        "#display(results_exp.query(\"R2_Adj>=0.2\").sort_values(by='R2_Adj', ascending=False))\n",
        "display(results_exp.sort_values(by='R2_Adj', ascending=False))"
      ]
    },
    {
      "cell_type": "code",
      "execution_count": null,
      "metadata": {
        "colab": {
          "base_uri": "https://localhost:8080/"
        },
        "id": "iRh-vb60EHe4",
        "outputId": "2122a37d-9012-44c9-bbd7-11eee0c88fda"
      },
      "outputs": [],
      "source": [
        "#from sklearn.model_selection import GridSearchCV, RandomizedSearchCV\n",
        "\n",
        "models = {\n",
        "    'Linear Regression': LinearRegression(),\n",
        "    'Ridge': Ridge(),\n",
        "    'Random Forest': RandomForestRegressor(),\n",
        "    'Extra Trees': ExtraTreesRegressor(),\n",
        "}\n",
        "\n",
        "# Espacios de hiperparámetros para cada modelo\n",
        "param_grids = {\n",
        "    'Random Forest': {\n",
        "        'n_estimators': [50, 100, 250,500],\n",
        "        'max_depth': [1,10, 20, 30],\n",
        "        'min_samples_split': [2, 5, 10],\n",
        "        'min_samples_leaf': [1, 2, 4],\n",
        "        #'criterion' : ['squared_error', 'absolute_error', 'friedman_mse', 'poisson'],\n",
        "        'max_features': ['auto', 'sqrt', 'log2'],\n",
        "        'min_weight_fraction_leaf': [0.2, 0.4],\n",
        "        },\n",
        "    'Extra Trees': {\n",
        "        'n_estimators': [50,100, 250,500],\n",
        "        'max_depth': [1, 10, 20, 30],\n",
        "        'min_samples_split': [2, 5, 10],\n",
        "        'min_samples_leaf': [1, 2, 4],\n",
        "        #'criterion' : ['squared_error', 'absolute_error', 'friedman_mse', 'poisson'],\n",
        "        'min_weight_fraction_leaf': [0.2, 0.4],\n",
        "        'max_features': [None, 'sqrt', 'log2'],\n",
        "        },\n",
        "    'Linear Regression': {\n",
        "        'fit_intercept': [True, False],\n",
        "        },\n",
        "    'Ridge': {\n",
        "        'alpha': [0.1, 1, 10, 100],\n",
        "        'fit_intercept': [True, False],\n",
        "        'solver': ['auto', 'svd', 'cholesky', 'lsqr', 'sparse_cg', 'sag', 'saga'],\n",
        "        'tol': [1e-3, 1e-4, 1e-5],\n",
        "        },\n",
        "    }\n",
        "\n",
        "# Diccionario para guardar los mejores modelos y sus hiperparámetros\n",
        "best_models = {}\n",
        "\n",
        "for name, model in models.items():\n",
        "    print(f\"mejores hiperparámetros para {name}...\")\n",
        "\n",
        "    # Usa GridSearchCV o RandomizedSearchCV con el espacio de hiperparámetros\n",
        "    search = GridSearchCV(model, param_grids[name], cv=5, scoring='r2', n_jobs=-1)\n",
        "\n",
        "    # Ajusta el modelo\n",
        "    search.fit(X_train_reg, y_train_reg)\n",
        "\n",
        "    # Guarda el mejor modelo y los mejores hiperparámetros\n",
        "    best_models[name] = {\n",
        "        'best_estimator': search.best_estimator_,\n",
        "        'best_params': search.best_params_,\n",
        "        'best_score': search.best_score_  # Cambia a positivo si es más fácil de interpretar\n",
        "    }\n",
        "\n",
        "    print(f\"Mejores hiperparámetros para {name}: {search.best_params_}\")\n",
        "    print(f\"Mejor puntaje (R2): {search.best_score_}\\n\")"
      ]
    },
    {
      "cell_type": "code",
      "execution_count": null,
      "metadata": {},
      "outputs": [],
      "source": [
        "# Mostrar los mejores modelos y sus hiperparámetros\n",
        "for name, details in best_models.items():\n",
        "    print(f\"{name}:\")\n",
        "    print(f\"  Mejores hiperparámetros: {details['best_params']}\")\n",
        "    print(f\"  Mejor puntaje (R2): {details['best_score']}\\n\")"
      ]
    },
    {
      "cell_type": "code",
      "execution_count": null,
      "metadata": {},
      "outputs": [],
      "source": [
        "modelo_LR_Reg=LinearRegression(fit_intercept=True).fit(X_train_reg, y_train_reg)\n",
        "modelo_RI_Reg=Ridge(alpha=0.1,fit_intercept=True,solver='auto',tol=0.001, random_state=42).fit(X_train_reg, y_train_reg)\n",
        "modelo_LA_Reg=Lasso(alpha=0.1, fit_intercept=True,max_iter=100, random_state=42).fit(X_train_reg, y_train_reg)\n",
        "modelo_RF_Reg=RandomForestRegressor(max_depth=10,min_samples_split=5, n_estimators=100, random_state=42).fit(X_train_reg, y_train_reg)\n",
        "modelo_ET_REG=ExtraTreesRegressor(max_depth=7,n_estimators=100,random_state=42).fit(X_train_reg, y_train_reg)"
      ]
    },
    {
      "cell_type": "code",
      "execution_count": null,
      "metadata": {},
      "outputs": [],
      "source": [
        "modelos=[modelo_LR_Reg,modelo_RI_Reg,modelo_LA_Reg,modelo_RF_Reg,modelo_ET_REG]\n",
        "modelos_nombres=['LinearRegression','Ridge','Lasso','RandomForestRegressor','ExtraTreesRegressor']"
      ]
    },
    {
      "cell_type": "code",
      "execution_count": null,
      "metadata": {},
      "outputs": [],
      "source": [
        "from sklearn.metrics import mean_squared_error, mean_absolute_error, mean_absolute_percentage_error\n",
        "\n",
        "mae_score_test=[]\n",
        "mape_score_test=[]\n",
        "mae_score_train=[]\n",
        "mape_score_train=[]\n",
        "modelo_name=[]\n",
        "mse_score_train=[]\n",
        "mse_score_test=[]\n",
        "rmse_score_train=[]\n",
        "rmse_score_test=[]\n",
        "r2_ajust=[]\n",
        "for modelo in modelos:\n",
        "    r2ajust=1 - (1 - modelo.score(X_train_reg, y_train_reg))*(X_train_reg.shape[0]-1)/(X_train_reg.shape[0]-X_train_reg.shape[1]-1)\n",
        "    mae_test = mean_absolute_error(y_test_reg, modelo.predict(X_test_reg))\n",
        "    mape_test=mean_absolute_percentage_error(y_test_reg, modelo.predict(X_test_reg))*100\n",
        "    mae_train = mean_absolute_error(y_train_reg, modelo.predict(X_train_reg))\n",
        "    mape_train=mean_absolute_percentage_error(y_train_reg, modelo.predict(X_train_reg))*100\n",
        "    mse_train = mean_squared_error(y_train_reg, modelo.predict(X_train_reg))\n",
        "    mse_test = mean_squared_error(y_test_reg, modelo.predict(X_test_reg))\n",
        "    rmse_train=np.sqrt(mse_train)\n",
        "    rmse_test=np.sqrt(mse_test)\n",
        "\n",
        "    mae_score_test.append(mae_test)\n",
        "    mape_score_test.append(mape_test)\n",
        "    mae_score_train.append(mae_train)\n",
        "    mape_score_train.append(mape_train)\n",
        "    modelo_name.append(modelos_nombres[modelos.index(modelo)])\n",
        "    r2_ajust.append(r2ajust)\n",
        "    mse_score_train.append(mse_train)\n",
        "    rmse_score_train.append(rmse_train)\n",
        "    mse_score_test.append(mse_test)\n",
        "    rmse_score_test.append(rmse_test)\n",
        "    #print(\"Testeo\")\n",
        "    #print(accuracy_score(y_test_clas, pred_train))\n",
        "    #print(classification_report(y_test_clas,pred_test))\n",
        "\n",
        "df_mse=pd.DataFrame({'modelo':modelo_name,'R2 ajustado':r2_ajust,'mae_test':mae_score_test,'mape_test':mape_score_test,'mae_train':mae_score_train,'mape_train':mape_score_train,'mse_train':mse_score_train,'rmse_train':rmse_score_train,'mse_test':mse_score_test,'rmse_test':rmse_score_test})\n",
        "df_mse"
      ]
    },
    {
      "cell_type": "markdown",
      "metadata": {},
      "source": [
        "## Prueba de Hiperparametros y calibración sobreajuste"
      ]
    },
    {
      "cell_type": "markdown",
      "metadata": {},
      "source": [
        "### Random Forest"
      ]
    },
    {
      "cell_type": "code",
      "execution_count": null,
      "metadata": {},
      "outputs": [],
      "source": [
        "modelo_RF_Reg_v2=RandomForestRegressor(max_depth=10,min_samples_split=9, n_estimators=500, random_state=42).fit(X_train_reg, y_train_reg)\n",
        "modelo_RF_Reg_v2_1=RandomForestRegressor(max_depth=10,min_samples_split=9,min_samples_leaf=2, n_estimators=500, random_state=42).fit(X_train_reg, y_train_reg) # 'min_weight_fraction_leaf': 0.2,\n",
        "modelo_RF_Reg_v2_2=RandomForestRegressor(max_depth=10,min_samples_split=9,min_samples_leaf=3, n_estimators=500, random_state=42).fit(X_train_reg, y_train_reg) #'min_samples_leaf': 2, 'min_samples_split': 10, 'min_weight_fraction_leaf': 0.2,\n",
        "modelo_RF_Reg_v2_3=RandomForestRegressor(max_depth=10,min_samples_split=9,min_samples_leaf=4, n_estimators=500, random_state=42).fit(X_train_reg, y_train_reg) #'min_samples_leaf': 2, 'min_samples_split': 10, 'min_weight_fraction_leaf': 0.2,\n",
        "modelo_RF_Reg_v2_4=RandomForestRegressor(max_depth=10,min_samples_split=9,min_samples_leaf=5, n_estimators=500, random_state=42).fit(X_train_reg, y_train_reg) #'min_samples_leaf': 2, 'min_samples_split': 10, 'min_weight_fraction_leaf': 0.2,"
      ]
    },
    {
      "cell_type": "code",
      "execution_count": null,
      "metadata": {},
      "outputs": [],
      "source": [
        "modelo_RF_Reg_v2_4_1=RandomForestRegressor(max_depth=10,min_samples_split=9,min_samples_leaf=5, n_estimators=500, criterion='squared_error', random_state=42).fit(X_train_reg, y_train_reg) # 'criterion' : ['squared_error', 'absolute_error', 'friedman_mse', 'poisson'],\n",
        "modelo_RF_Reg_v2_4_2=RandomForestRegressor(max_depth=10,min_samples_split=9,min_samples_leaf=5, n_estimators=500, criterion='absolute_error' ,random_state=42).fit(X_train_reg, y_train_reg) # 'min_weight_fraction_leaf': 0.2,\n",
        "modelo_RF_Reg_v2_4_3=RandomForestRegressor(max_depth=10,min_samples_split=9,min_samples_leaf=5, n_estimators=500, criterion='poisson',random_state=42).fit(X_train_reg, y_train_reg) # 'min_weight_fraction_leaf': 0.2,\n",
        "modelo_RF_Reg_v2_4_4=RandomForestRegressor(max_depth=10,min_samples_split=9,min_samples_leaf=5, n_estimators=500, criterion='friedman_mse',random_state=42).fit(X_train_reg, y_train_reg) # 'min_weight_fraction_leaf': 0.2,"
      ]
    },
    {
      "cell_type": "code",
      "execution_count": null,
      "metadata": {},
      "outputs": [],
      "source": [
        "modelo_RF_Reg_v2_4_2_1=RandomForestRegressor(max_depth=10,min_samples_split=9,min_samples_leaf=6, n_estimators=500, criterion='absolute_error',random_state=42).fit(X_train_reg, y_train_reg) # 'min_weight_fraction_leaf': 0.2,\n",
        "modelo_RF_Reg_v2_4_2_2=RandomForestRegressor(max_depth=10,min_samples_split=9,min_samples_leaf=4, n_estimators=500, criterion='absolute_error',random_state=42).fit(X_train_reg, y_train_reg) # 'min_weight_fraction_leaf': 0.2,\n",
        "modelo_RF_Reg_v2_4_2_3=RandomForestRegressor(max_depth=10,min_samples_split=9,min_samples_leaf=3, n_estimators=500, criterion='absolute_error',random_state=42).fit(X_train_reg, y_train_reg) # 'min_weight_fraction_leaf': 0.2,\n",
        "modelo_RF_Reg_v2_4_2_4=RandomForestRegressor(max_depth=10,min_samples_split=9,min_samples_leaf=2, n_estimators=500, criterion='absolute_error',random_state=42).fit(X_train_reg, y_train_reg) # 'min_weight_fraction_leaf': 0.2,"
      ]
    },
    {
      "cell_type": "code",
      "execution_count": null,
      "metadata": {},
      "outputs": [],
      "source": [
        "modelo_RF_Reg_v3=RandomForestRegressor(max_depth=10,min_samples_split=8, n_estimators=500, random_state=42).fit(X_train_reg, y_train_reg)\n",
        "modelo_RF_Reg_v4=RandomForestRegressor(max_depth=10,min_samples_split=7, n_estimators=500, random_state=42).fit(X_train_reg, y_train_reg)\n",
        "modelo_RF_Reg_v5=RandomForestRegressor(max_depth=10,min_samples_split=6, n_estimators=500, random_state=42).fit(X_train_reg, y_train_reg)\n",
        "modelo_RF_Reg_v6=RandomForestRegressor(max_depth=10,min_samples_split=5, n_estimators=500, random_state=42).fit(X_train_reg, y_train_reg)"
      ]
    },
    {
      "cell_type": "code",
      "execution_count": null,
      "metadata": {},
      "outputs": [],
      "source": [
        "modelo_RF_Reg_v2_4_2_3_1=RandomForestRegressor(max_depth=10,min_samples_split=9,min_samples_leaf=3, n_estimators=1000, criterion='absolute_error',random_state=42).fit(X_train_reg, y_train_reg) # 'min_weight_fraction_leaf': 0.2,"
      ]
    },
    {
      "cell_type": "markdown",
      "metadata": {},
      "source": [
        "### Extra Trees"
      ]
    },
    {
      "cell_type": "code",
      "execution_count": null,
      "metadata": {},
      "outputs": [],
      "source": [
        "modelo_ET_REG_v2=ExtraTreesRegressor(max_depth=6,n_estimators=500,random_state=42).fit(X_train_reg, y_train_reg)\n",
        "modelo_ET_REG_v3=ExtraTreesRegressor(max_depth=5,n_estimators=500,random_state=42).fit(X_train_reg, y_train_reg)\n",
        "modelo_ET_REG_v4=ExtraTreesRegressor(max_depth=4,n_estimators=500,random_state=42).fit(X_train_reg, y_train_reg)\n",
        "modelo_ET_REG_v5=ExtraTreesRegressor(max_depth=7,n_estimators=500,random_state=42).fit(X_train_reg, y_train_reg)\n",
        "modelo_ET_REG_v6=ExtraTreesRegressor(max_depth=8,n_estimators=500,random_state=42).fit(X_train_reg, y_train_reg)"
      ]
    },
    {
      "cell_type": "code",
      "execution_count": null,
      "metadata": {},
      "outputs": [],
      "source": [
        "modelo_ET_REG_v2_1=ExtraTreesRegressor(max_depth=6,n_estimators=500,min_impurity_decrease=0.1,max_features=10,random_state=42).fit(X_train_reg, y_train_reg)\n",
        "modelo_ET_REG_v2_2=ExtraTreesRegressor(max_depth=6,n_estimators=500,min_impurity_decrease=0.1,max_features=15,random_state=42).fit(X_train_reg, y_train_reg)"
      ]
    },
    {
      "cell_type": "code",
      "execution_count": null,
      "metadata": {},
      "outputs": [],
      "source": [
        "modelo_ET_REG_v2_2_1=ExtraTreesRegressor(max_depth=6,n_estimators=10000,min_impurity_decrease=0.1,max_features=15,random_state=42).fit(X_train_reg, y_train_reg)\n"
      ]
    },
    {
      "cell_type": "code",
      "execution_count": null,
      "metadata": {},
      "outputs": [],
      "source": [
        "modelo_ET_REG_v2_2_1_1=ExtraTreesRegressor(max_depth=6,n_estimators=10000,min_impurity_decrease=0.1,max_features=15,max_leaf_nodes=30,random_state=42).fit(X_train_reg, y_train_reg)\n",
        "modelo_ET_REG_v2_2_1_2=ExtraTreesRegressor(max_depth=6,n_estimators=10000,min_impurity_decrease=0.1,max_features=15,max_leaf_nodes=40,random_state=42).fit(X_train_reg, y_train_reg)"
      ]
    },
    {
      "cell_type": "markdown",
      "metadata": {},
      "source": [
        "### Resultados"
      ]
    },
    {
      "cell_type": "code",
      "execution_count": null,
      "metadata": {},
      "outputs": [],
      "source": [
        "modelos=[modelo_LR_Reg,modelo_RI_Reg,modelo_LA_Reg,\n",
        "         modelo_RF_Reg,modelo_RF_Reg_v2,modelo_RF_Reg_v3,modelo_RF_Reg_v4,modelo_RF_Reg_v5,modelo_RF_Reg_v6,\n",
        "         modelo_RF_Reg_v2_1,modelo_RF_Reg_v2_2,modelo_RF_Reg_v2_3,modelo_RF_Reg_v2_4,\n",
        "         modelo_RF_Reg_v2_4_1,modelo_RF_Reg_v2_4_2,modelo_RF_Reg_v2_4_3,modelo_RF_Reg_v2_4_4,\n",
        "         modelo_RF_Reg_v2_4_2_1,modelo_RF_Reg_v2_4_2_2,modelo_RF_Reg_v2_4_2_3,modelo_RF_Reg_v2_4_2_4,\n",
        "         modelo_RF_Reg_v2_4_2_3_1,\n",
        "         modelo_ET_REG,modelo_ET_REG_v2,modelo_ET_REG_v3,modelo_ET_REG_v4,modelo_ET_REG_v5,modelo_ET_REG_v6,\n",
        "         modelo_ET_REG_v2_1,modelo_ET_REG_v2_2,modelo_ET_REG_v2_2_1,modelo_ET_REG_v2_2_1_1,modelo_ET_REG_v2_2_1_2]\n",
        "modelos_nombres=['LinearRegression','Ridge','Lasso',\n",
        "                 'RandomForestRegressor','RandomForestRegressor_v2','RandomForestRegressor_v3','RandomForestRegressor_v4','RandomForestRegressor_v5','RandomForestRegressor_v6',\n",
        "                 'RandomForestRegressor_v2_1','RandomForestRegressor_v2_2','RandomForestRegressor_v2_3','RandomForestRegressor_v2_4',\n",
        "                 'RandomForestRegressor_v2_4_1','RandomForestRegressor_v2_4_2','RandomForestRegressor_v2_4_3','RandomForestRegressor_v2_4_4',\n",
        "                 'RandomForestRegressor_v2_4_2_1','RandomForestRegressor_v2_4_2_2','RandomForestRegressor_v2_4_2_3','RandomForestRegressor_v2_4_2_4',\n",
        "                    'RandomForestRegressor_v2_4_2_3_1',\n",
        "                 'ExtraTreesRegressor','ExtraTreesRegressor_v2','ExtraTreesRegressor_v3','ExtraTreesRegressor_v4','ExtraTreesRegressor_v5','ExtraTreesRegressor_v6',\n",
        "                 'ExtraTreesRegressor_v2_1','ExtraTreesRegressor_v2_2','ExtraTreesRegressor_v2_2_1','ExtraTreesRegressor_v2_2_1_1','ExtraTreesRegressor_v2_2_1_2']\n",
        "regresion=['Linear Regression','Ridge','Lasso',\n",
        "                 'Random Forest','Random Forest','Random Forest','Random Forest','Random Forest','Random Forest',\n",
        "                 'Random Forest','Random Forest','Random Forest','Random Forest',\n",
        "                 'Random Forest','Random Forest','Random Forest','Random Forest',\n",
        "                 'Random Forest','Random Forest','Random Forest','Random Forest','Random Forest',\n",
        "                 'Extra Trees','Extra Trees','Extra Trees','Extra Trees','Extra Trees','Extra Trees',\n",
        "                 'Extra Trees','Extra Trees','Extra Trees','Extra Trees','Extra Trees']"
      ]
    },
    {
      "cell_type": "code",
      "execution_count": null,
      "metadata": {},
      "outputs": [],
      "source": [
        "mae_score_test=[]\n",
        "mape_score_test=[]\n",
        "mae_score_train=[]\n",
        "mape_score_train=[]\n",
        "modelo_name=[]\n",
        "mse_score_train=[]\n",
        "mse_score_test=[]\n",
        "rmse_score_train=[]\n",
        "rmse_score_test=[]\n",
        "r2_ajust=[]\n",
        "reg=[]\n",
        "for modelo in modelos:\n",
        "    r2ajust=1 - (1 - modelo.score(X_train_reg, y_train_reg))*(X_train_reg.shape[0]-1)/(X_train_reg.shape[0]-X_train_reg.shape[1]-1)\n",
        "    mae_test = mean_absolute_error(y_test_reg, modelo.predict(X_test_reg))\n",
        "    mape_test=mean_absolute_percentage_error(y_test_reg, modelo.predict(X_test_reg))*100\n",
        "    mae_train = mean_absolute_error(y_train_reg, modelo.predict(X_train_reg))\n",
        "    mape_train=mean_absolute_percentage_error(y_train_reg, modelo.predict(X_train_reg))*100\n",
        "    mse_train = mean_squared_error(y_train_reg, modelo.predict(X_train_reg))\n",
        "    mse_test = mean_squared_error(y_test_reg, modelo.predict(X_test_reg))\n",
        "    rmse_train=np.sqrt(mse_train)\n",
        "    rmse_test=np.sqrt(mse_test)\n",
        "\n",
        "    mae_score_test.append(mae_test)\n",
        "    mape_score_test.append(mape_test)\n",
        "    mae_score_train.append(mae_train)\n",
        "    mape_score_train.append(mape_train)\n",
        "    modelo_name.append(modelos_nombres[modelos.index(modelo)])\n",
        "    reg.append(regresion[modelos.index(modelo)])\n",
        "    r2_ajust.append(r2ajust)\n",
        "    mse_score_train.append(mse_train)\n",
        "    rmse_score_train.append(rmse_train)\n",
        "    mse_score_test.append(mse_test)\n",
        "    rmse_score_test.append(rmse_test)"
      ]
    },
    {
      "cell_type": "code",
      "execution_count": null,
      "metadata": {},
      "outputs": [],
      "source": [
        "df_metricas=pd.DataFrame({'modelo':modelo_name,'regresion':reg,'R2 ajustado':r2_ajust,'mae_test':mae_score_test,'mape_test':mape_score_test,'mae_train':mae_score_train,'mape_train':mape_score_train,'mse_train':mse_score_train,'rmse_train':rmse_score_train,'mse_test':mse_score_test,'rmse_test':rmse_score_test})\n",
        "df_metricas['Diferencia_rmse']=df_metricas['rmse_train']-df_metricas['rmse_test']\n",
        "df_metricas['Sobreajuste']=np.where(abs(df_metricas['Diferencia_rmse'])>1,\"Si\",\"No\")\n",
        "df_metricas[df_metricas['regresion'].isin(['Random Forest','Extra Trees'])].sort_values(by=['regresion','Diferencia_rmse'],ascending=True)"
      ]
    },
    {
      "cell_type": "code",
      "execution_count": null,
      "metadata": {},
      "outputs": [],
      "source": [
        "sns.scatterplot(data=df_metricas,x='R2 ajustado',y='Diferencia_rmse',hue='Sobreajuste')\n",
        "plt.legend(bbox_to_anchor=(1.05, 1), loc=2, borderaxespad=0.,title='Sobreajuste')\n",
        "plt.hlines(y=-1,xmin=0.2,xmax=0.9,colors='r',linestyles='--')\n",
        "plt.vlines(x=0.6,ymin=-2.5,ymax=0,colors='r',linestyles='--')\n",
        "plt.show()"
      ]
    },
    {
      "cell_type": "code",
      "execution_count": null,
      "metadata": {},
      "outputs": [],
      "source": [
        "y_pred_RF_v2_4_2_3=modelo_RF_Reg_v2_4_2_3.predict(X_test_reg)\n",
        "y_pred_ET_v2=modelo_ET_REG_v2.predict(X_test_reg)"
      ]
    },
    {
      "cell_type": "markdown",
      "metadata": {
        "id": "iwvXWe4_Chta"
      },
      "source": [
        "#### funciones"
      ]
    },
    {
      "cell_type": "markdown",
      "metadata": {
        "id": "arRO9aB8CkxU"
      },
      "source": [
        "###### grafico scatterplot comparacion real vs predicción"
      ]
    },
    {
      "cell_type": "code",
      "execution_count": null,
      "metadata": {
        "id": "mAKwsesCBR7d"
      },
      "outputs": [],
      "source": [
        "# @title\n",
        "def graf_scatterplot(y,y_pred,modelo,conjunto):\n",
        "  plt.figure(figsize=(8, 6))\n",
        "  plt.scatter(y, y_pred, alpha=0.5)\n",
        "  plt.title(f'Scatterplot entre Recuperación real y predicha con regresión {modelo} datos {conjunto}')\n",
        "  plt.xlim(50, 100)\n",
        "  plt.ylim(50, 100)\n",
        "  plt.xlabel('Recuperación real')\n",
        "  plt.ylabel(f'Recuperacion regresión {modelo} datos {conjunto}')\n",
        "  \n",
        "  plt.grid(True)\n",
        "  plt.show()"
      ]
    },
    {
      "cell_type": "markdown",
      "metadata": {},
      "source": [
        "### grafico comparación"
      ]
    },
    {
      "cell_type": "markdown",
      "metadata": {},
      "source": [
        "#### Scatterplot entre Recuperación real - Random Forest"
      ]
    },
    {
      "cell_type": "code",
      "execution_count": null,
      "metadata": {},
      "outputs": [],
      "source": [
        "fig, ax = plt.subplots(1, 3, figsize=(14, 6))\n",
        "\n",
        "# Gráfico de dispersión para el conjunto de prueba\n",
        "sns.scatterplot(x=y_reg, y=modelo_RF_Reg_v2_4_2_3.predict(X_reg.drop(columns='cumple')), ax=ax[0])\n",
        "ax[0].set_title(\"Todos los datos\")\n",
        "ax[0].set_xlabel(\"Valores reales\")\n",
        "ax[0].set_ylabel(\"Predicciones\")\n",
        "ax[0].set_xlim(50, 100)\n",
        "ax[0].set_ylim(70, 90)\n",
        "\n",
        "# Gráfico de dispersión para el conjunto de entrenamiento\n",
        "sns.scatterplot(x=y_train_reg, y=modelo_RF_Reg_v2_4_2_3.predict(X_train_reg), ax=ax[1])\n",
        "ax[1].set_title(\"Conjunto de entrenamiento\")\n",
        "ax[1].set_xlabel(\"Valores reales\")\n",
        "ax[1].set_ylabel(\"Predicciones\")\n",
        "ax[1].set_xlim(50, 100)\n",
        "ax[1].set_ylim(70, 90)\n",
        "\n",
        "# Gráfico de dispersión para el conjunto de prueba\n",
        "sns.scatterplot(x=y_test_reg, y=modelo_RF_Reg_v2_4_2_3.predict(X_test_reg), ax=ax[2])\n",
        "ax[2].set_title(\"Conjunto de testeo\")\n",
        "ax[2].set_xlabel(\"Valores reales\")\n",
        "ax[2].set_ylabel(\"Predicciones\")\n",
        "ax[2].set_xlim(50, 100)\n",
        "ax[2].set_ylim(70, 90)\n",
        "\n",
        "plt.tight_layout()\n",
        "plt.show()\n"
      ]
    },
    {
      "cell_type": "markdown",
      "metadata": {},
      "source": [
        "#### Scatterplot entre Recuperación real - ExtraTrees"
      ]
    },
    {
      "cell_type": "code",
      "execution_count": null,
      "metadata": {},
      "outputs": [],
      "source": [
        "fig, ax = plt.subplots(1, 3, figsize=(14, 6))\n",
        "\n",
        "# Gráfico de dispersión para el conjunto de prueba\n",
        "sns.scatterplot(x=y_reg, y=modelo_ET_REG_v2.predict(X_reg.drop(columns='cumple')), ax=ax[0])\n",
        "ax[0].set_title(\"Todos los datos\")\n",
        "ax[0].set_xlabel(\"Valores reales\")\n",
        "ax[0].set_ylabel(\"Predicciones\")\n",
        "ax[0].set_xlim(50, 100)\n",
        "ax[0].set_ylim(70, 90)\n",
        "\n",
        "# Gráfico de dispersión para el conjunto de entrenamiento\n",
        "sns.scatterplot(x=y_train_reg, y=modelo_ET_REG_v2.predict(X_train_reg), ax=ax[1])\n",
        "ax[1].set_title(\"Conjunto de entrenamiento\")\n",
        "ax[1].set_xlabel(\"Valores reales\")\n",
        "ax[1].set_ylabel(\"Predicciones\")\n",
        "ax[1].set_xlim(50, 100)\n",
        "ax[1].set_ylim(70, 90)\n",
        "\n",
        "# Gráfico de dispersión para el conjunto de prueba\n",
        "sns.scatterplot(x=y_test_reg, y=modelo_ET_REG_v2.predict(X_test_reg), ax=ax[2])\n",
        "ax[2].set_title(\"Conjunto de testeo\")\n",
        "ax[2].set_xlabel(\"Valores reales\")\n",
        "ax[2].set_ylabel(\"Predicciones\")\n",
        "ax[2].set_xlim(50, 100)\n",
        "ax[2].set_ylim(70, 90)\n",
        "\n",
        "plt.tight_layout()\n",
        "plt.show()"
      ]
    },
    {
      "cell_type": "markdown",
      "metadata": {
        "id": "6AhdcTvl8jWW"
      },
      "source": [
        "## salvar modelos seleccionados"
      ]
    },
    {
      "cell_type": "markdown",
      "metadata": {
        "id": "FWUcrMcyCTPV"
      },
      "source": [
        "###### salvar modelo"
      ]
    },
    {
      "cell_type": "code",
      "execution_count": null,
      "metadata": {
        "colab": {
          "base_uri": "https://localhost:8080/"
        },
        "id": "TJ-BwlMPAzBc",
        "outputId": "9d0272e0-68ba-44ed-c1dd-8625aae408d6"
      },
      "outputs": [],
      "source": [
        "# Guarda el modelo\n",
        "joblib.dump(modelo_RF_Reg_v2_4_2_3, 'Modelos/RandomForestReg.joblib')\n",
        "joblib.dump(modelo_ET_REG_v2, 'Modelos/ExtraTreesReg.joblib')"
      ]
    }
  ],
  "metadata": {
    "accelerator": "GPU",
    "colab": {
      "gpuType": "T4",
      "machine_shape": "hm",
      "provenance": [],
      "toc_visible": true
    },
    "kernelspec": {
      "display_name": "Python 3",
      "language": "python",
      "name": "python3"
    },
    "language_info": {
      "codemirror_mode": {
        "name": "ipython",
        "version": 3
      },
      "file_extension": ".py",
      "mimetype": "text/x-python",
      "name": "python",
      "nbconvert_exporter": "python",
      "pygments_lexer": "ipython3",
      "version": "3.10.8"
    }
  },
  "nbformat": 4,
  "nbformat_minor": 0
}
