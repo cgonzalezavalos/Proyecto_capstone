{
  "cells": [
    {
      "cell_type": "markdown",
      "metadata": {
        "id": "01g23A4Sf0YY"
      },
      "source": [
        "# Librerias"
      ]
    },
    {
      "cell_type": "code",
      "execution_count": 3,
      "metadata": {
        "id": "9dYLU7XkMSvA"
      },
      "outputs": [
        {
          "ename": "ModuleNotFoundError",
          "evalue": "No module named 'matplotlib'",
          "output_type": "error",
          "traceback": [
            "\u001b[0;31m---------------------------------------------------------------------------\u001b[0m",
            "\u001b[0;31mModuleNotFoundError\u001b[0m                       Traceback (most recent call last)",
            "Cell \u001b[0;32mIn[3], line 4\u001b[0m\n\u001b[1;32m      2\u001b[0m \u001b[38;5;28;01mimport\u001b[39;00m\u001b[38;5;250m \u001b[39m\u001b[38;5;21;01mmath\u001b[39;00m\n\u001b[1;32m      3\u001b[0m \u001b[38;5;28;01mimport\u001b[39;00m\u001b[38;5;250m \u001b[39m\u001b[38;5;21;01mnumpy\u001b[39;00m\u001b[38;5;250m \u001b[39m\u001b[38;5;28;01mas\u001b[39;00m\u001b[38;5;250m \u001b[39m\u001b[38;5;21;01mnp\u001b[39;00m\n\u001b[0;32m----> 4\u001b[0m \u001b[38;5;28;01mimport\u001b[39;00m\u001b[38;5;250m \u001b[39m\u001b[38;5;21;01mmatplotlib\u001b[39;00m\u001b[38;5;21;01m.\u001b[39;00m\u001b[38;5;21;01mpyplot\u001b[39;00m\u001b[38;5;250m \u001b[39m\u001b[38;5;28;01mas\u001b[39;00m\u001b[38;5;250m \u001b[39m\u001b[38;5;21;01mplt\u001b[39;00m\n\u001b[1;32m      5\u001b[0m \u001b[38;5;28;01mimport\u001b[39;00m\u001b[38;5;250m \u001b[39m\u001b[38;5;21;01mseaborn\u001b[39;00m\u001b[38;5;250m \u001b[39m\u001b[38;5;28;01mas\u001b[39;00m\u001b[38;5;250m \u001b[39m\u001b[38;5;21;01msns\u001b[39;00m\n\u001b[1;32m      6\u001b[0m \u001b[38;5;28;01mfrom\u001b[39;00m\u001b[38;5;250m \u001b[39m\u001b[38;5;21;01mitertools\u001b[39;00m\u001b[38;5;250m \u001b[39m\u001b[38;5;28;01mimport\u001b[39;00m combinations\n",
            "\u001b[0;31mModuleNotFoundError\u001b[0m: No module named 'matplotlib'"
          ]
        }
      ],
      "source": [
        "import pandas as pd\n",
        "import math\n",
        "import numpy as np\n",
        "import matplotlib.pyplot as plt\n",
        "import seaborn as sns\n",
        "from itertools import combinations\n",
        "\n",
        "# sklearn\n",
        "from sklearn.experimental import enable_iterative_imputer\n",
        "from sklearn.impute import IterativeImputer\n",
        "from sklearn.ensemble import RandomForestRegressor\n",
        "from sklearn.linear_model import LinearRegression,Ridge, Lasso,LogisticRegression\n",
        "from sklearn.feature_selection import SequentialFeatureSelector\n",
        "# sklearn para outliers\n",
        "from sklearn.preprocessing import StandardScaler\n",
        "from sklearn.cluster import KMeans\n",
        "from sklearn.neighbors import LocalOutlierFactor\n",
        "from sklearn.metrics import r2_score, mean_squared_error\n",
        "# sklear para codificacion\n",
        "from sklearn.preprocessing import OneHotEncoder\n",
        "from sklearn.model_selection import train_test_split\n",
        "\n",
        "# estadisticas\n",
        "from scipy.stats import ks_2samp\n",
        "import statsmodels.api as sm\n",
        "from statsmodels.stats.outliers_influence import variance_inflation_factor\n",
        "\n",
        "# graficos\n",
        "import plotly.express as px\n",
        "import matplotlib.pyplot as plt\n",
        "import seaborn as sns\n",
        "import plotly.graph_objects as go\n",
        "from plotly.subplots import make_subplots\n",
        "import matplotlib.dates as mdates\n",
        "import plotly.io as pio\n",
        "pio.templates.default = \"plotly_white\"\n"
      ]
    },
    {
      "cell_type": "markdown",
      "metadata": {
        "id": "fnZNUuoDS8iY"
      },
      "source": [
        "# Carga datos"
      ]
    },
    {
      "cell_type": "code",
      "execution_count": null,
      "metadata": {
        "colab": {
          "base_uri": "https://localhost:8080/"
        },
        "id": "ZWksVB2cQ0Bb",
        "outputId": "a76ce5fe-14bd-43bb-ddfe-3815f2968666"
      },
      "outputs": [],
      "source": [
        "df_original_variables=pd.read_excel('datos/df_final_v4.xlsx')\n",
        "df_original_variables.drop('Missing Values',inplace=True,axis=1)\n",
        "df_otras_variables=pd.read_excel('datos/df_otras_variables.xlsx')\n",
        "df_otras_variables.drop('Unnamed: 0',inplace=True,axis=1)\n",
        "df_raw=pd.merge(df_original_variables,df_otras_variables,on=['Fecha','Turno'],how='left')\n",
        "df_raw.info()\n"
      ]
    },
    {
      "cell_type": "code",
      "execution_count": null,
      "metadata": {
        "id": "G1wyj9Oa_VXv"
      },
      "outputs": [],
      "source": [
        "df_raw.rename(columns={'Rec Turno CuT':'Recuperacion_Turno'},inplace=True)"
      ]
    },
    {
      "cell_type": "code",
      "execution_count": null,
      "metadata": {
        "colab": {
          "base_uri": "https://localhost:8080/",
          "height": 206
        },
        "id": "kh75hcHnRHzZ",
        "outputId": "b23a01d3-320a-4883-c47e-61f1b512b826"
      },
      "outputs": [],
      "source": [
        "df_raw.head()"
      ]
    },
    {
      "cell_type": "markdown",
      "metadata": {
        "id": "tzUdguYHbJ0K"
      },
      "source": [
        "# Datos faltantes"
      ]
    },
    {
      "cell_type": "markdown",
      "metadata": {
        "id": "O7iquesgYza6"
      },
      "source": [
        "eliminar los registros donde la variable **recuperacion_turno** es 0 o nula"
      ]
    },
    {
      "cell_type": "code",
      "execution_count": null,
      "metadata": {
        "colab": {
          "base_uri": "https://localhost:8080/"
        },
        "id": "En9gRXKARlHm",
        "outputId": "43380e70-584d-4a63-803a-38c46ffec161"
      },
      "outputs": [],
      "source": [
        "df_clean=df_raw.query('~Recuperacion_Turno.isnull()').copy()\n",
        "df_clean.info()"
      ]
    },
    {
      "cell_type": "markdown",
      "metadata": {
        "id": "22tYmrmQZFk2"
      },
      "source": [
        "creamos una variable que cuenta la cantidad de datos faltantes por registro (**missing values**)"
      ]
    },
    {
      "cell_type": "code",
      "execution_count": null,
      "metadata": {
        "colab": {
          "base_uri": "https://localhost:8080/"
        },
        "id": "pT-gnCUll1kw",
        "outputId": "937a0681-9527-499d-b3ef-6e57f19a9828"
      },
      "outputs": [],
      "source": [
        "df_clean['Missing Values']=df_clean.isna().sum(axis=1)\n",
        "df_clean.info()"
      ]
    },
    {
      "cell_type": "markdown",
      "metadata": {
        "id": "USSbaWyVnWkY"
      },
      "source": [
        "gráfico de Missing Values por regitro"
      ]
    },
    {
      "cell_type": "code",
      "execution_count": null,
      "metadata": {
        "colab": {
          "base_uri": "https://localhost:8080/",
          "height": 449
        },
        "id": "184DULPrl9oo",
        "outputId": "38222f1a-dfbe-4b60-9fe1-131a86888a7f"
      },
      "outputs": [],
      "source": [
        "tabla=df_clean.groupby('Missing Values').size()\n",
        "sns.barplot(tabla)\n",
        "plt.ylabel('Cantidad de registros')\n",
        "plt.xlabel('Cantidad de valores faltantes')\n",
        "plt.show()"
      ]
    },
    {
      "cell_type": "code",
      "execution_count": null,
      "metadata": {
        "colab": {
          "base_uri": "https://localhost:8080/",
          "height": 265
        },
        "id": "JcAlDM0EZXK4",
        "outputId": "309527cf-ad19-4f06-adae-0012c54f5199"
      },
      "outputs": [],
      "source": [
        "tabla_MV_turno=df_clean.groupby(['Missing Values','Turno']).size()\n",
        "tabla_MV_turno.name='Cantidad de registros'\n",
        "tabla_MV_turno=tabla_MV_turno.reset_index()\n",
        "figsize = (12, 1.2 * len(tabla_MV_turno['Turno'].unique()))\n",
        "plt.figure(figsize=figsize)\n",
        "sns.barplot(tabla_MV_turno, y='Cantidad de registros', x='Missing Values', hue='Turno')\n",
        "plt.show()"
      ]
    },
    {
      "cell_type": "markdown",
      "metadata": {
        "id": "w1SmeR3Zm9wu"
      },
      "source": [
        "reducir solo a registros que tienen 4 o menos variables faltantes"
      ]
    },
    {
      "cell_type": "code",
      "execution_count": null,
      "metadata": {
        "colab": {
          "base_uri": "https://localhost:8080/"
        },
        "id": "k_xGT1EYmR-Y",
        "outputId": "fed3611a-ec20-49bf-e631-dde9cd14e128"
      },
      "outputs": [],
      "source": [
        "df_clean.query(\"`Missing Values` < 5\",inplace=True)\n",
        "df_clean.info()"
      ]
    },
    {
      "cell_type": "code",
      "execution_count": null,
      "metadata": {
        "colab": {
          "base_uri": "https://localhost:8080/",
          "height": 488
        },
        "id": "sUgWk-vtTM-t",
        "outputId": "b54edea0-d4ee-44ff-9168-541b87da9cad"
      },
      "outputs": [],
      "source": [
        "# Calcular la cantidad de NaN y el total de entradas por columna, excepto 'Fecha'\n",
        "variables_no_numericas=['Fecha','Turno']\n",
        "numeric_cols = df_clean.columns.drop(variables_no_numericas)\n",
        "nan_counts = df_clean[numeric_cols].isna().sum()\n",
        "total_counts = len(df_clean)\n",
        "\n",
        "# Calcular el porcentaje de datos no NaN\n",
        "non_nan_percentage = (1 - nan_counts / total_counts) * 100\n",
        "nan_percentage=(nan_counts/total_counts)*100\n",
        "\n",
        "# Crear un DataFrame con los resultados\n",
        "results_df = pd.DataFrame({\n",
        "    'Var': nan_counts.index,\n",
        "    'count_nan': nan_counts.values,\n",
        "    'Total Registros': total_counts,\n",
        "    'Porcentaje completos': non_nan_percentage.values,\n",
        "    'Porcentaje faltantes':nan_percentage.values\n",
        "})\n",
        "\n",
        "# Ordenar los resultados por porcentaje en orden decreciente\n",
        "results_df = results_df.sort_values(by='Porcentaje completos', ascending=False)\n",
        "results_df = results_df.reset_index(drop=True)\n",
        "results_df"
      ]
    },
    {
      "cell_type": "code",
      "execution_count": null,
      "metadata": {
        "colab": {
          "base_uri": "https://localhost:8080/",
          "height": 817
        },
        "id": "-zYfnVahUDq-",
        "outputId": "876c4d81-3e7b-4ccd-8853-ef41fce2bc9a"
      },
      "outputs": [],
      "source": [
        "# Crear un gráfico de barras con Plotly\n",
        "fig = px.bar(results_df.query(\"Var!='Missing Values'\"), x='Var', y='Porcentaje completos',\n",
        "             title='Porcentaje de Datos Disponibles por Variable',\n",
        "             labels={'Var': 'Variable', 'Porcentaje completos': 'Porcentaje de Datos No NaN (%)'},\n",
        "             text='Porcentaje completos')\n",
        "\n",
        "# Añadir estilo al gráfico\n",
        "fig.update_traces(texttemplate='%{text:.2f}%', textposition='outside')\n",
        "fig.update_layout(xaxis_tickangle=-45)\n",
        "\n",
        "# Ajustar manualmente el tamaño del gráfico\n",
        "fig.update_layout(width=1000, height=800)  # Cambia estos valores según tus necesidades\n",
        "\n",
        "# Mostrar el gráfico\n",
        "fig.show()"
      ]
    },
    {
      "cell_type": "markdown",
      "metadata": {
        "id": "fwqf7YWEVHjI"
      },
      "source": [
        "# Recuperación de cobre"
      ]
    },
    {
      "cell_type": "code",
      "execution_count": null,
      "metadata": {
        "colab": {
          "base_uri": "https://localhost:8080/",
          "height": 449
        },
        "id": "HO3FQWKpVJRx",
        "outputId": "168c925c-7b5d-4552-9914-10440ed462b3"
      },
      "outputs": [],
      "source": [
        "promedio_recuperacion=df_original_variables['Rec Turno CuT'].mean()\n",
        "mediana_recuperacion=df_original_variables['Rec Turno CuT'].median()\n",
        "meta_recuperacion=86\n",
        "sns.histplot(df_original_variables['Rec Turno CuT'], bins=20, kde=True)\n",
        "#plt.vlines(promedio_recuperacion, 0, 120, colors='r', linestyles='dashed', label='Promedio recuperación')\n",
        "#plt.vlines(mediana_recuperacion, 0, 120, colors='b', linestyles='dashed', label='Mediana recuperación')\n",
        "#plt.vlines(meta_recuperacion, 0, 120, colors='g', linestyles='dashed', label='Meta recuperación')\n",
        "#plt.text(promedio_recuperacion, 120, f'Prom:{promedio_recuperacion:.0f}', color='r', fontsize=8, ha='right')\n",
        "#plt.text(mediana_recuperacion, 120, f'Med:{mediana_recuperacion:.0f}', color='b', fontsize=8, ha='left')\n",
        "#plt.text(meta_recuperacion, 120, f'Meta:{meta_recuperacion}', color='g', fontsize=8, ha='left')\n",
        "#plt.legend(loc='upper left')\n",
        "plt.show()"
      ]
    },
    {
      "cell_type": "code",
      "execution_count": null,
      "metadata": {
        "colab": {
          "base_uri": "https://localhost:8080/",
          "height": 335
        },
        "id": "cz9c0l4VAzDO",
        "outputId": "25daa3ca-beea-410e-926d-f7350fe8cf5b"
      },
      "outputs": [],
      "source": [
        "df_clean.Recuperacion_Turno.describe()"
      ]
    },
    {
      "cell_type": "code",
      "execution_count": null,
      "metadata": {
        "colab": {
          "base_uri": "https://localhost:8080/"
        },
        "id": "tJM-WHf-BAFf",
        "outputId": "a121e4f7-3fc3-4d3e-a1ff-0310d2331a6f"
      },
      "outputs": [],
      "source": [
        "df_clean.query(\"Recuperacion_Turno<100 and Recuperacion_Turno>0\",inplace=True)\n",
        "#df_clean.query(\"Recuperacion_Turno>0\",inplace=True)\n",
        "df_clean.info()"
      ]
    },
    {
      "cell_type": "code",
      "execution_count": null,
      "metadata": {
        "colab": {
          "base_uri": "https://localhost:8080/",
          "height": 450
        },
        "id": "nhCDYfHdBUsE",
        "outputId": "2195d4d0-e4ac-4eb8-c3a0-4a9bc410b174"
      },
      "outputs": [],
      "source": [
        "promedio_recuperacion=df_clean['Recuperacion_Turno'].mean()\n",
        "mediana_recuperacion=df_clean['Recuperacion_Turno'].median()\n",
        "meta_recuperacion=86\n",
        "sns.histplot(df_clean['Recuperacion_Turno'], bins=20, kde=True)\n",
        "#plt.vlines(promedio_recuperacion, 0, 120, colors='r', linestyles='dashed', label='Promedio recuperación')\n",
        "#plt.vlines(mediana_recuperacion, 0, 120, colors='b', linestyles='dashed', label='Mediana recuperación')\n",
        "plt.vlines(meta_recuperacion, 0, 120, colors='g', linestyles='dashed', label='Meta recuperación')\n",
        "#plt.text(promedio_recuperacion, 120, f'Prom:{promedio_recuperacion:.0f}', color='r', fontsize=8, ha='right')\n",
        "#plt.text(mediana_recuperacion, 120, f'Med:{mediana_recuperacion:.0f}', color='b', fontsize=8, ha='left')\n",
        "plt.text(meta_recuperacion, 120, f'Meta:{meta_recuperacion}', color='g', fontsize=8, ha='left')\n",
        "#plt.legend(loc='upper left')\n",
        "plt.ylabel('Cantidad de turnos')\n",
        "plt.xlabel('Recuperación Cu')\n",
        "plt.show()"
      ]
    },
    {
      "cell_type": "markdown",
      "metadata": {
        "id": "9qZdHdWaFxVh"
      },
      "source": [
        "hacer tabla de recuperacion x dia"
      ]
    },
    {
      "cell_type": "code",
      "execution_count": null,
      "metadata": {},
      "outputs": [],
      "source": [
        "df_clean.info()"
      ]
    },
    {
      "cell_type": "code",
      "execution_count": null,
      "metadata": {},
      "outputs": [],
      "source": [
        "tabla_recuperacion_dia=df_clean.groupby(['Fecha','Turno']).agg({'Recuperacion_Turno':'sum','Tratamiento turno':'sum'}).reset_index()\n",
        "tabla_recuperacion_dia['Mult']=tabla_recuperacion_dia['Recuperacion_Turno']*tabla_recuperacion_dia['Tratamiento turno']\n",
        "tabla_recuperacion_dia=tabla_recuperacion_dia.groupby('Fecha').agg({'Mult':'sum','Tratamiento turno':'sum'}).reset_index()\n",
        "tabla_recuperacion_dia['Recuperacion']=tabla_recuperacion_dia['Mult']/tabla_recuperacion_dia['Tratamiento turno']\n",
        "tabla_recuperacion_dia=tabla_recuperacion_dia[['Fecha','Recuperacion']]\n",
        "tabla_recuperacion_dia.dropna(inplace=True)\n",
        "tabla_recuperacion_dia['indice']=tabla_recuperacion_dia.index\n",
        "tabla_recuperacion_dia"
      ]
    },
    {
      "cell_type": "code",
      "execution_count": null,
      "metadata": {
        "colab": {
          "base_uri": "https://localhost:8080/",
          "height": 631
        },
        "id": "7uHHp1nSVip9",
        "outputId": "b62d851b-a868-4ac1-80a1-dd9addfd1739"
      },
      "outputs": [],
      "source": [
        "plt.figure(figsize=(12, 6))\n",
        "sns.lineplot(data=tabla_recuperacion_dia,x=tabla_recuperacion_dia.index, y='Recuperacion', marker='o', color='blue',estimator=None)\n",
        "plt.title('Recuperación de cobre por fecha')\n",
        "plt.ylabel('Recuperación de cobre')\n",
        "\n",
        "minima = tabla_recuperacion_dia.index.min()\n",
        "maxima = tabla_recuperacion_dia.index.max()\n",
        "\n",
        "plt.hlines(meta_recuperacion, minima, maxima, colors='r', linestyles='dashed', label='Meta recuperación')\n",
        "plt.text(maxima, meta_recuperacion, f'Meta:{meta_recuperacion}', color='r', fontsize=10, ha='left')\n",
        "\n",
        "plt.hlines(promedio_recuperacion, minima, maxima, colors='g', linestyles='dashed', label='Promedio recuperación')\n",
        "plt.text(maxima, promedio_recuperacion, f'Prom:{promedio_recuperacion:.0f}', color='g', fontsize=10, ha='left')\n",
        "\n",
        "#plt.gca().xaxis.set_major_locator(mdates.DayLocator(interval=15))  # Aquí defines el intervalo de 15 días\n",
        "#plt.gca().xaxis.set_major_formatter(mdates.DateFormatter('%Y-%m-%d'))  # Formato de fecha año-mes-día\n",
        "plt.xlabel('')\n",
        "#plt.xticks(rotation=90)\n",
        "plt.xlim(minima, maxima)\n",
        "\n",
        "plt.show()\n"
      ]
    },
    {
      "cell_type": "code",
      "execution_count": null,
      "metadata": {
        "colab": {
          "base_uri": "https://localhost:8080/",
          "height": 125
        },
        "id": "w3FFVlKMfDt1",
        "outputId": "17f5bcd6-50e3-4af7-b2f7-8d7b50f298bc"
      },
      "outputs": [],
      "source": [
        "df_clean['cumplimiento']=df_clean['Recuperacion_Turno']>=meta_recuperacion\n",
        "tabla_cumplimiento = df_clean.groupby(['Turno']).agg({'cumplimiento': 'sum','Recuperacion_Turno':'count'})\n",
        "tabla_cumplimiento = tabla_cumplimiento.rename(columns={'Recuperacion_Turno':'cantidad_turnos'})\n",
        "tabla_cumplimiento['porcentaje_cumplimiento']=tabla_cumplimiento['cumplimiento']/tabla_cumplimiento['cantidad_turnos']\n",
        "tabla_cumplimiento['porcentaje_no_cumplimiento']=1-tabla_cumplimiento['porcentaje_cumplimiento']\n",
        "tabla_cumplimiento = tabla_cumplimiento.reset_index()\n",
        "tabla_cumplimiento"
      ]
    },
    {
      "cell_type": "code",
      "execution_count": null,
      "metadata": {
        "colab": {
          "base_uri": "https://localhost:8080/",
          "height": 565
        },
        "id": "S5x8BPtni9jk",
        "outputId": "679accb5-ff33-4f8f-c195-2dc7fcd57468"
      },
      "outputs": [],
      "source": [
        "df_clean['Cumple_Meta'] = df_clean['Recuperacion_Turno'] >= meta_recuperacion\n",
        "tabla_cumplimiento = df_clean.groupby(['Turno', 'Cumple_Meta'])['Recuperacion_Turno'].count().reset_index()\n",
        "tabla_cumplimiento = tabla_cumplimiento.rename(columns={'Recuperacion_Turno': 'Cantidad'})\n",
        "tabla_cumplimiento = tabla_cumplimiento.pivot(index='Turno', columns='Cumple_Meta', values='Cantidad').fillna(0)\n",
        "\n",
        "# Calcula el porcentaje para cada turno\n",
        "tabla_cumplimiento_pct = tabla_cumplimiento.div(tabla_cumplimiento.sum(axis=1), axis=0) * 100\n",
        "\n",
        "# Crear el gráfico de barras apiladas con porcentajes\n",
        "fig, ax = plt.subplots(figsize=(10, 6))\n",
        "colors = ['red', 'green']  # Puedes cambiar los colores si lo deseas\n",
        "\n",
        "# barras apiladas\n",
        "bottom = np.zeros(len(tabla_cumplimiento_pct))\n",
        "for i, col in enumerate(tabla_cumplimiento_pct.columns):\n",
        "    ax.bar(tabla_cumplimiento_pct.index, tabla_cumplimiento_pct[col], bottom=bottom, label=col, color=colors[i])\n",
        "    bottom += tabla_cumplimiento_pct[col]\n",
        "\n",
        "ax.set_title('Cumplimiento de Recuperación por Turno (Porcentaje)')\n",
        "ax.set_ylabel('Porcentaje de Registros')\n",
        "ax.set_xlabel('Turno')\n",
        "ax.legend(title='Cumple Meta', labels=['No', 'Sí'])\n",
        "\n",
        "# Agregar etiquetas de porcentaje\n",
        "for i, rect in enumerate(ax.patches):\n",
        "    height = rect.get_height()\n",
        "    width = rect.get_width()\n",
        "    x = rect.get_x() + width / 2\n",
        "    y = rect.get_y() + height / 2\n",
        "\n",
        "    if height > 0:  # Solo agrega etiquetas si la altura es mayor a 0\n",
        "        label_text = f'{height:.1f}%'\n",
        "        ax.text(x, y, label_text, ha='center', va='center', color='white', fontsize=10)\n",
        "\n",
        "plt.show()"
      ]
    },
    {
      "cell_type": "markdown",
      "metadata": {
        "id": "YvW8EMCibg1u"
      },
      "source": [
        "# Visualización inicial de Variables"
      ]
    },
    {
      "cell_type": "code",
      "execution_count": null,
      "metadata": {
        "id": "jW-LV_HCa6HZ"
      },
      "outputs": [],
      "source": [
        "def graficos_variables(df, variables_excluidas=None):\n",
        "    # Si no se especifican variables excluidas, usa las predeterminadas\n",
        "    if variables_excluidas is None:\n",
        "        variables_excluidas = ['Fecha', 'Recuperacion_Turno']\n",
        "\n",
        "    # Seleccionar columnas numéricas excluyendo las variables indicadas\n",
        "    numeric_columns = df.select_dtypes(include='number').drop(columns=variables_excluidas, errors='ignore')\n",
        "\n",
        "    # Definir el número de filas y columnas en el layout de subplots\n",
        "    num_cols = 4  # Ajusta este valor según el espacio que prefieras\n",
        "    num_rows = math.ceil(numeric_columns.shape[1] / num_cols)\n",
        "\n",
        "    # Crear el tamaño de la figura\n",
        "    plt.figure(figsize=(20, num_rows * 5))\n",
        "\n",
        "    # Graficar cada columna como un histograma en un subplot diferente\n",
        "    for i, col in enumerate(numeric_columns.columns):\n",
        "        plt.subplot(num_rows, num_cols, i + 1)\n",
        "        sns.histplot(x=numeric_columns[col], kde=True)\n",
        "        plt.title(col)\n",
        "        plt.ylabel('')  # Elimina la etiqueta del eje y para ahorrar espacio\n",
        "\n",
        "    # Ajustar los espacios entre subplots\n",
        "    plt.tight_layout()\n",
        "    plt.show()"
      ]
    },
    {
      "cell_type": "code",
      "execution_count": null,
      "metadata": {
        "colab": {
          "base_uri": "https://localhost:8080/",
          "height": 1000
        },
        "id": "zEans-ShbqwI",
        "outputId": "24e44e93-621c-42aa-db98-4ca7ffdb9722"
      },
      "outputs": [],
      "source": [
        "graficos_variables(df_raw.drop(columns=['Turno','Recuperacion_Turno']))"
      ]
    },
    {
      "cell_type": "markdown",
      "metadata": {
        "id": "C1nTS8o7cfJU"
      },
      "source": [
        "# Missing Values"
      ]
    },
    {
      "cell_type": "code",
      "execution_count": null,
      "metadata": {
        "colab": {
          "base_uri": "https://localhost:8080/",
          "height": 272
        },
        "id": "iQs2gw_iYQL4",
        "outputId": "70a11093-5c79-4757-ea05-6203eea34a9f"
      },
      "outputs": [],
      "source": [
        "df_clean['Missing Values'].value_counts()"
      ]
    },
    {
      "cell_type": "code",
      "execution_count": null,
      "metadata": {
        "colab": {
          "base_uri": "https://localhost:8080/"
        },
        "id": "N1xnKR_rMxj8",
        "outputId": "2736d5af-ea86-4702-c995-30d9347cd59a"
      },
      "outputs": [],
      "source": [
        "df_clean.info()"
      ]
    },
    {
      "cell_type": "code",
      "execution_count": null,
      "metadata": {
        "colab": {
          "base_uri": "https://localhost:8080/"
        },
        "id": "2Wwu3lEschTE",
        "outputId": "a16d4e0b-6807-45af-fa3c-5c52c33ccc84"
      },
      "outputs": [],
      "source": [
        "date_cols = df_clean.select_dtypes(include=['datetime']).columns  # Identifica columnas de fecha\n",
        "cat_columns=df_clean.select_dtypes(include=['object']).columns\n",
        "numeric_cols = df_clean.select_dtypes(include=[np.number]).columns  # Identifica columnas numéricas\n",
        "\n",
        "# Solo aplica imputación en columnas numéricas\n",
        "#imputer = IterativeImputer(estimator=RandomForestRegressor(), random_state=42)\n",
        "imputer = IterativeImputer(estimator=RandomForestRegressor(),skip_complete=True, random_state=42)\n",
        "df_numeric_imputed = imputer.fit_transform(df_clean[numeric_cols])\n",
        "df_numeric_imputed = pd.DataFrame(df_numeric_imputed, columns=numeric_cols)\n",
        "\n",
        "# Combina los resultados con las columnas de fecha\n",
        "df_capstone = pd.concat([df_clean[date_cols], df_numeric_imputed, df_clean[cat_columns]], axis=1)\n",
        "\n",
        "df_capstone.info()"
      ]
    },
    {
      "cell_type": "markdown",
      "metadata": {
        "id": "bJNcEeoFfJB4"
      },
      "source": [
        "# Outliers"
      ]
    },
    {
      "cell_type": "markdown",
      "metadata": {
        "id": "Zw0Gyt_zgLhk"
      },
      "source": [
        "## estandarizar datos"
      ]
    },
    {
      "cell_type": "code",
      "execution_count": null,
      "metadata": {
        "id": "HxTAY3wYfwcg"
      },
      "outputs": [],
      "source": [
        "# Crear un objeto StandardScaler\n",
        "estandarizar = StandardScaler()\n",
        "\n",
        "# Ajustar el scaler y transformar los datos\n",
        "scaled_df = estandarizar.fit_transform(df_capstone.drop(columns=['Fecha','Turno','Missing Values']))\n",
        "\n",
        "# transformar a dataframe arreglo de estandarizado\n",
        "scaled_df = pd.DataFrame(scaled_df, columns=df_capstone.drop(columns=['Fecha','Turno','Missing Values']).columns)\n",
        "scaled_df.dropna(inplace=True)"
      ]
    },
    {
      "cell_type": "code",
      "execution_count": null,
      "metadata": {
        "colab": {
          "base_uri": "https://localhost:8080/"
        },
        "id": "-2XWG0GDglFm",
        "outputId": "315e0989-d84c-45be-e7da-6a90c2c439a0"
      },
      "outputs": [],
      "source": [
        "scaled_df.info()"
      ]
    },
    {
      "cell_type": "markdown",
      "metadata": {
        "id": "OPNWK00wgPy8"
      },
      "source": [
        "## función mahalanobis"
      ]
    },
    {
      "cell_type": "code",
      "execution_count": null,
      "metadata": {
        "id": "2zOJ7RL6gKO8"
      },
      "outputs": [],
      "source": [
        "def Mahalanobis(x, df, cov=None): #Argumentos opcionales\n",
        "    x_mu = x - df.mean(axis=0)\n",
        "    if not cov:\n",
        "        cov = np.cov(df.values.T)\n",
        "    inv_covmat = np.linalg.inv(cov) #Pseudo inversa\n",
        "    left = np.dot(x_mu, inv_covmat)\n",
        "    mahal = np.dot(left, x_mu.T)\n",
        "    return mahal.diagonal()"
      ]
    },
    {
      "cell_type": "markdown",
      "metadata": {
        "id": "GvoKg0oMgYTV"
      },
      "source": [
        "## cluster de registros"
      ]
    },
    {
      "cell_type": "code",
      "execution_count": null,
      "metadata": {
        "id": "1k15StYXgazL"
      },
      "outputs": [],
      "source": [
        "kmeans_model = KMeans(n_clusters=6,\n",
        "                      random_state=2023,\n",
        "                      verbose=0)\n",
        "cluster_labels = kmeans_model.fit(scaled_df)\n",
        "cluster_labels=kmeans_model.predict(scaled_df)\n",
        "\n",
        "scaled_df['cluster'] = cluster_labels\n",
        "centers_kmeans = scaled_df.groupby(['cluster']).aggregate('mean').reset_index()"
      ]
    },
    {
      "cell_type": "markdown",
      "metadata": {
        "id": "MJDTY2zmipHP"
      },
      "source": [
        "## Mahalanobis y LOF"
      ]
    },
    {
      "cell_type": "code",
      "execution_count": null,
      "metadata": {
        "colab": {
          "base_uri": "https://localhost:8080/",
          "height": 255
        },
        "id": "CF1OR0r5igDQ",
        "outputId": "627cbbcb-6f37-4af9-e2b2-46e91c4c292d"
      },
      "outputs": [],
      "source": [
        "lof = LocalOutlierFactor(n_neighbors=20, contamination=0.1)\n",
        "pred = lof.fit_predict(scaled_df)\n",
        "scaled_df[\"lof\"] = lof.negative_outlier_factor_\n",
        "scaled_df[\"Mahala\"] = Mahalanobis(x = scaled_df, df = scaled_df)\n",
        "scaled_df['cluster'] = cluster_labels\n",
        "centers_kmeans = scaled_df.groupby(['cluster']).aggregate('mean').reset_index()\n",
        "centers_kmeans"
      ]
    },
    {
      "cell_type": "code",
      "execution_count": null,
      "metadata": {
        "colab": {
          "base_uri": "https://localhost:8080/",
          "height": 304
        },
        "id": "8_KtL0mWm4X4",
        "outputId": "c66df7a9-2eb7-4782-de26-6458ae860439"
      },
      "outputs": [],
      "source": [
        "scaled_df.cluster.value_counts()"
      ]
    },
    {
      "cell_type": "code",
      "execution_count": null,
      "metadata": {
        "colab": {
          "base_uri": "https://localhost:8080/",
          "height": 472
        },
        "id": "hIB72FplivC6",
        "outputId": "0f040287-1eec-4f2b-f5fe-0a76c9c4c28f"
      },
      "outputs": [],
      "source": [
        "sns.scatterplot(data=scaled_df, x=\"Mahala\", y=\"lof\", c=scaled_df['cluster'].astype(int))\n",
        "plt.ylim(-5,0)\n",
        "plt.title(\"Mahalanobis vs LOF\")\n",
        "#plt.vlines(50, -5, 0, color='red')\n",
        "#plt.hlines(-2, 0, 500, color='red')\n",
        "plt.show()"
      ]
    },
    {
      "cell_type": "code",
      "execution_count": null,
      "metadata": {
        "colab": {
          "base_uri": "https://localhost:8080/",
          "height": 304
        },
        "id": "8-APod57i5-P",
        "outputId": "03168d3e-1a62-4966-f270-3c643d69eba8"
      },
      "outputs": [],
      "source": [
        "scaled_df_so = scaled_df[(scaled_df['Mahala'] < 100)]# & (scaled_df['lof'] > -1.5)]\n",
        "scaled_df_so.cluster.value_counts()"
      ]
    },
    {
      "cell_type": "code",
      "execution_count": null,
      "metadata": {
        "colab": {
          "base_uri": "https://localhost:8080/",
          "height": 472
        },
        "id": "Kz8kN7r_jBGB",
        "outputId": "40a5242f-bdc7-4b4b-9eae-fc5c2d8581e7"
      },
      "outputs": [],
      "source": [
        "sns.scatterplot(data=scaled_df_so, x=\"Mahala\", y=\"lof\", c=scaled_df_so['cluster'].astype(int))\n",
        "plt.ylim(-2,0)\n",
        "plt.title(\"Mahalanobis vs LOF\")\n",
        "plt.show()"
      ]
    },
    {
      "cell_type": "code",
      "execution_count": null,
      "metadata": {
        "colab": {
          "base_uri": "https://localhost:8080/"
        },
        "id": "KHiyBflpjIc8",
        "outputId": "677007c8-3118-4d16-d8b8-5290be2f747d"
      },
      "outputs": [],
      "source": [
        "no_std_df_so=estandarizar.inverse_transform(scaled_df_so.drop(columns=['cluster', 'lof', 'Mahala']))\n",
        "no_std_df_so = pd.DataFrame(no_std_df_so, columns=df_capstone.drop(columns=['Fecha','Turno','Missing Values']).columns)\n",
        "no_std_df_so['Fecha'] = df_capstone['Fecha'].reset_index(drop=True)\n",
        "no_std_df_so['Turno'] = df_capstone['Turno'].reset_index(drop=True)\n",
        "df_capstone=no_std_df_so.copy()\n",
        "df_capstone.info()"
      ]
    },
    {
      "cell_type": "markdown",
      "metadata": {
        "id": "DnciNb5_kLla"
      },
      "source": [
        "# Test de Kolmogorov-Smirnov\n",
        "\n",
        "El test de Kolmogorov-Smirnov (KS) es una prueba que compara dos distribuciones de probabilidad para evaluar si provienen de la misma distribución o si una muestra sigue una distribución específica.\n",
        "Un valor alto del p-value respalda la hipótesis nula, es decir, que no hay evidencia para decir que las distribuciones son diferentes entre si."
      ]
    },
    {
      "cell_type": "code",
      "execution_count": null,
      "metadata": {
        "colab": {
          "base_uri": "https://localhost:8080/",
          "height": 457
        },
        "id": "dKgR4hdmkOie",
        "outputId": "5e49c90d-822a-4687-9e31-bfff3b207c45"
      },
      "outputs": [],
      "source": [
        "common_columns = df_capstone.select_dtypes(include=[np.number]).columns.intersection(df_capstone.select_dtypes(include=[np.number]).columns)\n",
        "\n",
        "# Realizar el test de Kolmogorov-Smirnov para cada columna numérica\n",
        "\n",
        "results = []\n",
        "for column in common_columns:\n",
        "    if column in df_clean and column in df_capstone:\n",
        "        stat, p_value = ks_2samp(df_clean[column].dropna(), df_capstone[column])\n",
        "        results.append((column, stat, p_value))\n",
        "\n",
        "# Convertir los resultados en un DataFrame para una mejor visualización\n",
        "results_df = pd.DataFrame(results, columns=['Column', 'KS Statistic', 'P-value'])\n",
        "\n",
        "# Mostrar los resultados\n",
        "results_df"
      ]
    },
    {
      "cell_type": "code",
      "execution_count": null,
      "metadata": {
        "colab": {
          "base_uri": "https://localhost:8080/",
          "height": 1000
        },
        "id": "87PPjd36k4tP",
        "outputId": "c3bb6693-360c-4558-80b6-93077bfe0a11"
      },
      "outputs": [],
      "source": [
        "graficos_variables(df_capstone)"
      ]
    },
    {
      "cell_type": "markdown",
      "metadata": {
        "id": "tQBquJdfplBt"
      },
      "source": [
        "# Correlación de las variables"
      ]
    },
    {
      "cell_type": "markdown",
      "metadata": {
        "id": "0yx-TzCLp6O1"
      },
      "source": [
        "## Gráfico de correlación entre todas las variables"
      ]
    },
    {
      "cell_type": "code",
      "execution_count": null,
      "metadata": {
        "colab": {
          "base_uri": "https://localhost:8080/",
          "height": 824
        },
        "id": "JqG4-uBvprFd",
        "outputId": "2e6f9cb2-d9be-4304-e4a2-182447fa9ca1"
      },
      "outputs": [],
      "source": [
        "# Calcula la matriz de correlación\n",
        "correlation_matrix = df_capstone.select_dtypes(include=[np.number]).corr()\n",
        "\n",
        "# Configura el tamaño de la figura\n",
        "plt.figure(figsize=(10, 8))\n",
        "\n",
        "# Crea una matriz de anotaciones personalizada\n",
        "annotations = correlation_matrix.applymap(lambda x: f'{x:.2f}' if abs(x) >= 0.25 else '')\n",
        "\n",
        "# Crea un mapa de calor de la matriz de correlación\n",
        "sns.heatmap(correlation_matrix, annot=annotations, fmt=\"\", cmap=\"coolwarm\", annot_kws={\"size\": 8})\n",
        "\n",
        "# Añade etiquetas y título\n",
        "plt.title(\"Matriz de correlación de variables\")\n",
        "plt.xticks(rotation=90)\n",
        "plt.yticks(rotation=0)\n",
        "plt.show()"
      ]
    },
    {
      "cell_type": "markdown",
      "metadata": {
        "id": "D8A_A0cHp9zv"
      },
      "source": [
        "## Correlación entre variables predictoras y variable objetivo"
      ]
    },
    {
      "cell_type": "code",
      "execution_count": null,
      "metadata": {
        "colab": {
          "base_uri": "https://localhost:8080/",
          "height": 676
        },
        "id": "voseycB0qEdz",
        "outputId": "61ba7840-84ff-4dc4-f169-dbd117552723"
      },
      "outputs": [],
      "source": [
        "# Extraemos las correlaciones específicas con 'RECUPERACION_PONDERADA'\n",
        "target_correlation = correlation_matrix['Recuperacion_Turno'].drop('Recuperacion_Turno')  # Excluir la auto-correlación\n",
        "# Ordenamos las correlaciones de mayor a menor\n",
        "target_correlation_sorted = target_correlation.sort_values(ascending=False)\n",
        "# Creamos el gráfico de barras para visualizar estas correlaciones ordenadas\n",
        "plt.figure(figsize=(10, 6))\n",
        "target_correlation_sorted.plot(kind='bar', color='skyblue')\n",
        "plt.title('Correlación de las variables con variable objetivo (Recuperación)')\n",
        "plt.xlabel('Columnas')\n",
        "plt.ylabel('Coeficiente de Correlación')\n",
        "plt.ylim(-1, 1)\n",
        "plt.xticks(rotation=90)\n",
        "plt.grid(True)\n",
        "plt.show()"
      ]
    },
    {
      "cell_type": "markdown",
      "metadata": {
        "id": "AHTbXy15vOwL"
      },
      "source": [
        "# Revisión de las variables"
      ]
    },
    {
      "cell_type": "markdown",
      "metadata": {
        "id": "p6X74OwzvwL-"
      },
      "source": [
        "## Detección de Autocolinealidad (VIF)"
      ]
    },
    {
      "cell_type": "code",
      "execution_count": null,
      "metadata": {
        "colab": {
          "base_uri": "https://localhost:8080/",
          "height": 424
        },
        "id": "4F4ItMI43xYs",
        "outputId": "6ea63300-9a49-4fa4-a2d9-e4a1a9641798"
      },
      "outputs": [],
      "source": [
        "df_capstone.drop(columns=['Recuperacion_Turno','Fecha'])"
      ]
    },
    {
      "cell_type": "code",
      "execution_count": null,
      "metadata": {
        "colab": {
          "base_uri": "https://localhost:8080/",
          "height": 457
        },
        "id": "P-8rcFnxv-3F",
        "outputId": "780fc223-c0d0-4944-af3b-46ec8eb68a85"
      },
      "outputs": [],
      "source": [
        "X = df_capstone.drop(columns=['Recuperacion_Turno','Fecha','Turno']) # se elimina la variable Y:medv\n",
        "X = sm.add_constant(X)\n",
        "\n",
        "# Calcular el VIF para cada variable predictora\n",
        "VIF = [variance_inflation_factor(X.values, i) for i in range(X.shape[1])]\n",
        "\n",
        "# Crear un DataFrame para mostrar los resultados tabulados\n",
        "vif_df = pd.DataFrame({'Variable': X.columns, 'VIF': VIF})\n",
        "\n",
        "# Mostrar la tabla\n",
        "display(vif_df.sort_values('VIF', ascending=False))"
      ]
    },
    {
      "cell_type": "code",
      "execution_count": null,
      "metadata": {
        "colab": {
          "base_uri": "https://localhost:8080/",
          "height": 426
        },
        "id": "22v_RMQdDkvW",
        "outputId": "493b53ae-e497-4fad-aa2f-5fe8d3446728"
      },
      "outputs": [],
      "source": [
        "X_2 = df_capstone.drop(columns=['Recuperacion_Turno','Fecha','Turno','Alim CuI']) # se elimina la variable Y:medv\n",
        "X_2 = sm.add_constant(X_2)\n",
        "\n",
        "# Calcular el VIF para cada variable predictora\n",
        "VIF_2 = [variance_inflation_factor(X_2.values, i) for i in range(X_2.shape[1])]\n",
        "\n",
        "# Crear un DataFrame para mostrar los resultados tabulados\n",
        "vif_df_2 = pd.DataFrame({'Variable': X_2.columns, 'VIF': VIF_2})\n",
        "\n",
        "# Mostrar la tabla\n",
        "display(vif_df_2.sort_values('VIF', ascending=False))"
      ]
    },
    {
      "cell_type": "markdown",
      "metadata": {
        "id": "zAAOFg4ov5MP"
      },
      "source": [
        "## Step Forward Selecction"
      ]
    },
    {
      "cell_type": "markdown",
      "metadata": {},
      "source": [
        "### Lasso"
      ]
    },
    {
      "cell_type": "code",
      "execution_count": null,
      "metadata": {
        "colab": {
          "base_uri": "https://localhost:8080/",
          "height": 136
        },
        "id": "wgC-7WLfvTRi",
        "outputId": "5cfeb726-5e6b-47a5-b69a-ca8c926e3928"
      },
      "outputs": [],
      "source": [
        "#linear_model = LinearRegression()\n",
        "laso=Lasso()\n",
        "score='explained_variance'\n",
        "features_select='auto'\n",
        "#score='neg_root_mean_squared_error',\n",
        "sfs_model = SequentialFeatureSelector(laso,\n",
        "                                      n_features_to_select = features_select,\n",
        "                                      direction='forward',\n",
        "                                      scoring=score,\n",
        "                                      cv=5,\n",
        "                                      n_jobs=-1)\n",
        "\n",
        "X_sfs = df_capstone.drop(columns=['Recuperacion_Turno','Turno','Fecha','Alim CuI'])\n",
        "Y_sfs = df_capstone['Recuperacion_Turno']\n",
        "# Perform SFFS\n",
        "sfs_model.fit(X_sfs, Y_sfs)"
      ]
    },
    {
      "cell_type": "code",
      "execution_count": null,
      "metadata": {
        "colab": {
          "base_uri": "https://localhost:8080/"
        },
        "id": "UyZYbsj_5f9X",
        "outputId": "0299849a-97e3-485d-9f6b-c10fbc32dfa7"
      },
      "outputs": [],
      "source": [
        "variables_sfs=sfs_model.get_feature_names_out()\n",
        "variables_sfs"
      ]
    },
    {
      "cell_type": "code",
      "execution_count": null,
      "metadata": {
        "colab": {
          "base_uri": "https://localhost:8080/",
          "height": 394
        },
        "id": "xx7puqkE7s_X",
        "outputId": "91c496a5-289c-4045-8952-04d020eb1657"
      },
      "outputs": [],
      "source": [
        "X = X_sfs\n",
        "y = Y_sfs\n",
        "\n",
        "# Lista para guardar métrica y variable seleccionada\n",
        "scores = []\n",
        "variables_seleccionadas = []\n",
        "\n",
        "remaining_variables = list(X.columns)\n",
        "selected_variables = []\n",
        "\n",
        "for i in range(len(remaining_variables)):\n",
        "    best_score = -float(\"inf\")\n",
        "    best_variable = None\n",
        "\n",
        "    for variable in remaining_variables:\n",
        "        # grupo de variables actuales + la nueva variable\n",
        "        candidate_variables = selected_variables + [variable]\n",
        "\n",
        "        # Ajusta el modelo con variables actuales\n",
        "        model = LinearRegression().fit(X[candidate_variables], y)\n",
        "\n",
        "        # Calcula el R²\n",
        "        n = X_sfs.shape[0]  # Número de muestras\n",
        "        p = X_sfs.shape[1]  # Número de predictores\n",
        "        r2=r2_score(y, model.predict(X[candidate_variables]))\n",
        "        r2_adjusted = 1 - (1 - r2) * (n - 1) / (n - p - 1)\n",
        "        score = r2_adjusted\n",
        "\n",
        "        # Si el modelo mejora, actualiza el mejor score y variable\n",
        "        if score > best_score:\n",
        "            best_score = score\n",
        "            best_variable = variable\n",
        "\n",
        "    # Añadir variable y registrar el score\n",
        "    if best_variable:\n",
        "        selected_variables.append(best_variable)\n",
        "        remaining_variables.remove(best_variable)\n",
        "        scores.append(best_score)\n",
        "        variables_seleccionadas.append(best_variable)\n",
        "\n",
        "#print(\"Variables Seleccionadas:\", variables_seleccionadas)\n",
        "#print(\"Scores en cada paso:\", scores)\n",
        "\n",
        "results_sfs=pd.DataFrame({'Variables Seleccionadas':variables_seleccionadas,'Scores':scores})\n",
        "results_sfs\n"
      ]
    },
    {
      "cell_type": "code",
      "execution_count": null,
      "metadata": {
        "colab": {
          "base_uri": "https://localhost:8080/",
          "height": 675
        },
        "id": "DycMZcE67lmC",
        "outputId": "f3f0ce18-1f4a-4490-a6fd-4a3ca633f2af"
      },
      "outputs": [],
      "source": [
        "variables_seleccionadas = variables_seleccionadas\n",
        "scores = scores\n",
        "\n",
        "plt.figure(figsize=(12, 6))\n",
        "sns.lineplot(x=variables_seleccionadas, y=scores, marker='o')\n",
        "plt.xlabel('Variables Seleccionadas')\n",
        "plt.xticks(rotation=90)\n",
        "plt.ylabel('Desempeño Acumulado')\n",
        "plt.title('Impacto Acumulativo de Variables Seleccionadas')\n",
        "plt.show()"
      ]
    },
    {
      "cell_type": "markdown",
      "metadata": {},
      "source": [
        "### Random Forest"
      ]
    },
    {
      "cell_type": "code",
      "execution_count": null,
      "metadata": {},
      "outputs": [],
      "source": [
        "#linear_model = LinearRegression()\n",
        "RandomForest=RandomForestRegressor()\n",
        "score='explained_variance'\n",
        "features_select='auto'\n",
        "#score='neg_root_mean_squared_error',\n",
        "sfs_model_2 = SequentialFeatureSelector(RandomForest,\n",
        "                                      n_features_to_select = features_select,\n",
        "                                      direction='forward',\n",
        "                                      scoring=score,\n",
        "                                      cv=5,\n",
        "                                      n_jobs=-1)\n",
        "\n",
        "X_sfs_2 = df_capstone.drop(columns=['Recuperacion_Turno','Turno','Fecha','Alim CuI'])\n",
        "Y_sfs_2 = df_capstone['Recuperacion_Turno']\n",
        "# Perform SFFS\n",
        "sfs_model_2.fit(X_sfs_2, Y_sfs_2)"
      ]
    },
    {
      "cell_type": "code",
      "execution_count": null,
      "metadata": {},
      "outputs": [],
      "source": [
        "variables_sfs_2=sfs_model_2.get_feature_names_out()\n",
        "variables_sfs_2"
      ]
    },
    {
      "cell_type": "code",
      "execution_count": null,
      "metadata": {},
      "outputs": [],
      "source": [
        "X = X_sfs_2\n",
        "y = Y_sfs_2\n",
        "\n",
        "# Lista para guardar métrica y variable seleccionada\n",
        "scores = []\n",
        "variables_seleccionadas = []\n",
        "\n",
        "remaining_variables = list(X.columns)\n",
        "selected_variables = []\n",
        "\n",
        "for i in range(len(remaining_variables)):\n",
        "    best_score = -float(\"inf\")\n",
        "    best_variable = None\n",
        "\n",
        "    for variable in remaining_variables:\n",
        "        # grupo de variables actuales + la nueva variable\n",
        "        candidate_variables = selected_variables + [variable]\n",
        "\n",
        "        # Ajusta el modelo con variables actuales\n",
        "        model = RandomForestRegressor().fit(X[candidate_variables], y)\n",
        "\n",
        "        # Calcula el R²\n",
        "        n = X_sfs_2.shape[0]  # Número de muestras\n",
        "        p = X_sfs_2.shape[1]  # Número de predictores\n",
        "        r2=r2_score(y, model.predict(X[candidate_variables]))\n",
        "        r2_adjusted = 1 - (1 - r2) * (n - 1) / (n - p - 1)\n",
        "        score = r2_adjusted\n",
        "\n",
        "        # Si el modelo mejora, actualiza el mejor score y variable\n",
        "        if score > best_score:\n",
        "            best_score = score\n",
        "            best_variable = variable\n",
        "\n",
        "    # Añadir variable y registrar el score\n",
        "    if best_variable:\n",
        "        selected_variables.append(best_variable)\n",
        "        remaining_variables.remove(best_variable)\n",
        "        scores.append(best_score)\n",
        "        variables_seleccionadas.append(best_variable)\n",
        "\n",
        "#print(\"Variables Seleccionadas:\", variables_seleccionadas)\n",
        "#print(\"Scores en cada paso:\", scores)\n",
        "\n",
        "results_sfs_2=pd.DataFrame({'Variables Seleccionadas':variables_seleccionadas,'Scores':scores})\n",
        "results_sfs_2\n"
      ]
    },
    {
      "cell_type": "code",
      "execution_count": null,
      "metadata": {},
      "outputs": [],
      "source": [
        "variables_seleccionadas = variables_seleccionadas\n",
        "scores = scores\n",
        "\n",
        "plt.figure(figsize=(12, 6))\n",
        "sns.lineplot(x=variables_seleccionadas, y=scores, marker='o')\n",
        "plt.xlabel('Variables Seleccionadas')\n",
        "plt.xticks(rotation=90)\n",
        "plt.ylabel('Desempeño Acumulado')\n",
        "plt.title('Impacto Acumulativo de Variables Seleccionadas')\n",
        "plt.show()"
      ]
    },
    {
      "cell_type": "markdown",
      "metadata": {
        "id": "Z99o7O89qllB"
      },
      "source": [
        "# Archivo"
      ]
    },
    {
      "cell_type": "code",
      "execution_count": null,
      "metadata": {},
      "outputs": [],
      "source": [
        "df_capstone.info()"
      ]
    },
    {
      "cell_type": "code",
      "execution_count": null,
      "metadata": {
        "id": "sG1lCCZJunYM"
      },
      "outputs": [],
      "source": [
        "df_capstone.rename({'Tratamiento turno':'Tratamiento_Turno','Ag (ppm)':'Ag','Pb (ppm)':'Pb','Fe %':'Fe','P80 Alim Ro300':'P80_Alim_Ro300','pH Ro300':'pH_Ro300','Alim CuT':'Alim_CuT','Alim CuS':'Alim_CuS','Sol Cit':'Sol_Cit'},axis=1,inplace=True)"
      ]
    },
    {
      "cell_type": "code",
      "execution_count": null,
      "metadata": {
        "colab": {
          "base_uri": "https://localhost:8080/"
        },
        "id": "F1QxLo-Rvtlt",
        "outputId": "5177ab4a-f80f-467c-c77c-3507ea4bfb4c"
      },
      "outputs": [],
      "source": [
        "df_capstone.info()"
      ]
    },
    {
      "cell_type": "code",
      "execution_count": null,
      "metadata": {
        "id": "nBRfc33pqpVs"
      },
      "outputs": [],
      "source": [
        "df_capstone.to_excel('ArchivosExcel/df_capstone.xlsx', index=False)\n",
        "#df_capstone_sfs.to_excel('/content/drive/MyDrive/Magister/capstone/datos/df_capstone_sfs.xlsx', index=False)"
      ]
    }
  ],
  "metadata": {
    "colab": {
      "gpuType": "T4",
      "machine_shape": "hm",
      "provenance": [],
      "toc_visible": true
    },
    "kernelspec": {
      "display_name": "env",
      "language": "python",
      "name": "python3"
    },
    "language_info": {
      "codemirror_mode": {
        "name": "ipython",
        "version": 3
      },
      "file_extension": ".py",
      "mimetype": "text/x-python",
      "name": "python",
      "nbconvert_exporter": "python",
      "pygments_lexer": "ipython3",
      "version": "3.10.8"
    }
  },
  "nbformat": 4,
  "nbformat_minor": 0
}
